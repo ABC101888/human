{
 "cells": [
  {
   "cell_type": "code",
   "execution_count": 1,
   "metadata": {},
   "outputs": [],
   "source": [
    "import pandas as pd\n",
    "import numpy as np\n",
    "import math\n",
    "import matplotlib.pyplot as plt\n",
    "import seaborn as sns\n",
    "from IPython.display import display\n",
    "from sklearn.linear_model import LinearRegression\n",
    "from sklearn.model_selection import train_test_split\n",
    "from sklearn.metrics import mean_squared_error\n",
    "from sklearn.preprocessing import MinMaxScaler\n",
    "%matplotlib inline"
   ]
  },
  {
   "cell_type": "code",
   "execution_count": 2,
   "metadata": {},
   "outputs": [],
   "source": [
    "df = pd.read_csv('student-mat.csv', sep=';')"
   ]
  },
  {
   "cell_type": "code",
   "execution_count": 3,
   "metadata": {},
   "outputs": [
    {
     "data": {
      "text/html": [
       "<div>\n",
       "<style scoped>\n",
       "    .dataframe tbody tr th:only-of-type {\n",
       "        vertical-align: middle;\n",
       "    }\n",
       "\n",
       "    .dataframe tbody tr th {\n",
       "        vertical-align: top;\n",
       "    }\n",
       "\n",
       "    .dataframe thead th {\n",
       "        text-align: right;\n",
       "    }\n",
       "</style>\n",
       "<table border=\"1\" class=\"dataframe\">\n",
       "  <thead>\n",
       "    <tr style=\"text-align: right;\">\n",
       "      <th></th>\n",
       "      <th>school</th>\n",
       "      <th>sex</th>\n",
       "      <th>age</th>\n",
       "      <th>address</th>\n",
       "      <th>famsize</th>\n",
       "      <th>Pstatus</th>\n",
       "      <th>Medu</th>\n",
       "      <th>Fedu</th>\n",
       "      <th>Mjob</th>\n",
       "      <th>Fjob</th>\n",
       "      <th>reason</th>\n",
       "      <th>guardian</th>\n",
       "      <th>traveltime</th>\n",
       "      <th>studytime</th>\n",
       "      <th>failures</th>\n",
       "      <th>schoolsup</th>\n",
       "      <th>famsup</th>\n",
       "      <th>paid</th>\n",
       "      <th>activities</th>\n",
       "      <th>nursery</th>\n",
       "      <th>higher</th>\n",
       "      <th>internet</th>\n",
       "      <th>romantic</th>\n",
       "      <th>famrel</th>\n",
       "      <th>freetime</th>\n",
       "      <th>goout</th>\n",
       "      <th>Dalc</th>\n",
       "      <th>Walc</th>\n",
       "      <th>health</th>\n",
       "      <th>absences</th>\n",
       "      <th>G1</th>\n",
       "      <th>G2</th>\n",
       "      <th>G3</th>\n",
       "    </tr>\n",
       "  </thead>\n",
       "  <tbody>\n",
       "    <tr>\n",
       "      <th>0</th>\n",
       "      <td>GP</td>\n",
       "      <td>F</td>\n",
       "      <td>18</td>\n",
       "      <td>U</td>\n",
       "      <td>GT3</td>\n",
       "      <td>A</td>\n",
       "      <td>4</td>\n",
       "      <td>4</td>\n",
       "      <td>at_home</td>\n",
       "      <td>teacher</td>\n",
       "      <td>course</td>\n",
       "      <td>mother</td>\n",
       "      <td>2</td>\n",
       "      <td>2</td>\n",
       "      <td>0</td>\n",
       "      <td>yes</td>\n",
       "      <td>no</td>\n",
       "      <td>no</td>\n",
       "      <td>no</td>\n",
       "      <td>yes</td>\n",
       "      <td>yes</td>\n",
       "      <td>no</td>\n",
       "      <td>no</td>\n",
       "      <td>4</td>\n",
       "      <td>3</td>\n",
       "      <td>4</td>\n",
       "      <td>1</td>\n",
       "      <td>1</td>\n",
       "      <td>3</td>\n",
       "      <td>6</td>\n",
       "      <td>5</td>\n",
       "      <td>6</td>\n",
       "      <td>6</td>\n",
       "    </tr>\n",
       "    <tr>\n",
       "      <th>1</th>\n",
       "      <td>GP</td>\n",
       "      <td>F</td>\n",
       "      <td>17</td>\n",
       "      <td>U</td>\n",
       "      <td>GT3</td>\n",
       "      <td>T</td>\n",
       "      <td>1</td>\n",
       "      <td>1</td>\n",
       "      <td>at_home</td>\n",
       "      <td>other</td>\n",
       "      <td>course</td>\n",
       "      <td>father</td>\n",
       "      <td>1</td>\n",
       "      <td>2</td>\n",
       "      <td>0</td>\n",
       "      <td>no</td>\n",
       "      <td>yes</td>\n",
       "      <td>no</td>\n",
       "      <td>no</td>\n",
       "      <td>no</td>\n",
       "      <td>yes</td>\n",
       "      <td>yes</td>\n",
       "      <td>no</td>\n",
       "      <td>5</td>\n",
       "      <td>3</td>\n",
       "      <td>3</td>\n",
       "      <td>1</td>\n",
       "      <td>1</td>\n",
       "      <td>3</td>\n",
       "      <td>4</td>\n",
       "      <td>5</td>\n",
       "      <td>5</td>\n",
       "      <td>6</td>\n",
       "    </tr>\n",
       "    <tr>\n",
       "      <th>...</th>\n",
       "      <td>...</td>\n",
       "      <td>...</td>\n",
       "      <td>...</td>\n",
       "      <td>...</td>\n",
       "      <td>...</td>\n",
       "      <td>...</td>\n",
       "      <td>...</td>\n",
       "      <td>...</td>\n",
       "      <td>...</td>\n",
       "      <td>...</td>\n",
       "      <td>...</td>\n",
       "      <td>...</td>\n",
       "      <td>...</td>\n",
       "      <td>...</td>\n",
       "      <td>...</td>\n",
       "      <td>...</td>\n",
       "      <td>...</td>\n",
       "      <td>...</td>\n",
       "      <td>...</td>\n",
       "      <td>...</td>\n",
       "      <td>...</td>\n",
       "      <td>...</td>\n",
       "      <td>...</td>\n",
       "      <td>...</td>\n",
       "      <td>...</td>\n",
       "      <td>...</td>\n",
       "      <td>...</td>\n",
       "      <td>...</td>\n",
       "      <td>...</td>\n",
       "      <td>...</td>\n",
       "      <td>...</td>\n",
       "      <td>...</td>\n",
       "      <td>...</td>\n",
       "    </tr>\n",
       "    <tr>\n",
       "      <th>393</th>\n",
       "      <td>MS</td>\n",
       "      <td>M</td>\n",
       "      <td>18</td>\n",
       "      <td>R</td>\n",
       "      <td>LE3</td>\n",
       "      <td>T</td>\n",
       "      <td>3</td>\n",
       "      <td>2</td>\n",
       "      <td>services</td>\n",
       "      <td>other</td>\n",
       "      <td>course</td>\n",
       "      <td>mother</td>\n",
       "      <td>3</td>\n",
       "      <td>1</td>\n",
       "      <td>0</td>\n",
       "      <td>no</td>\n",
       "      <td>no</td>\n",
       "      <td>no</td>\n",
       "      <td>no</td>\n",
       "      <td>no</td>\n",
       "      <td>yes</td>\n",
       "      <td>yes</td>\n",
       "      <td>no</td>\n",
       "      <td>4</td>\n",
       "      <td>4</td>\n",
       "      <td>1</td>\n",
       "      <td>3</td>\n",
       "      <td>4</td>\n",
       "      <td>5</td>\n",
       "      <td>0</td>\n",
       "      <td>11</td>\n",
       "      <td>12</td>\n",
       "      <td>10</td>\n",
       "    </tr>\n",
       "    <tr>\n",
       "      <th>394</th>\n",
       "      <td>MS</td>\n",
       "      <td>M</td>\n",
       "      <td>19</td>\n",
       "      <td>U</td>\n",
       "      <td>LE3</td>\n",
       "      <td>T</td>\n",
       "      <td>1</td>\n",
       "      <td>1</td>\n",
       "      <td>other</td>\n",
       "      <td>at_home</td>\n",
       "      <td>course</td>\n",
       "      <td>father</td>\n",
       "      <td>1</td>\n",
       "      <td>1</td>\n",
       "      <td>0</td>\n",
       "      <td>no</td>\n",
       "      <td>no</td>\n",
       "      <td>no</td>\n",
       "      <td>no</td>\n",
       "      <td>yes</td>\n",
       "      <td>yes</td>\n",
       "      <td>yes</td>\n",
       "      <td>no</td>\n",
       "      <td>3</td>\n",
       "      <td>2</td>\n",
       "      <td>3</td>\n",
       "      <td>3</td>\n",
       "      <td>3</td>\n",
       "      <td>5</td>\n",
       "      <td>5</td>\n",
       "      <td>8</td>\n",
       "      <td>9</td>\n",
       "      <td>9</td>\n",
       "    </tr>\n",
       "  </tbody>\n",
       "</table>\n",
       "<p>395 rows × 33 columns</p>\n",
       "</div>"
      ],
      "text/plain": [
       "    school sex  age address famsize Pstatus  Medu  Fedu      Mjob     Fjob  \\\n",
       "0       GP   F   18       U     GT3       A     4     4   at_home  teacher   \n",
       "1       GP   F   17       U     GT3       T     1     1   at_home    other   \n",
       "..     ...  ..  ...     ...     ...     ...   ...   ...       ...      ...   \n",
       "393     MS   M   18       R     LE3       T     3     2  services    other   \n",
       "394     MS   M   19       U     LE3       T     1     1     other  at_home   \n",
       "\n",
       "     reason guardian  traveltime  studytime  failures schoolsup famsup paid  \\\n",
       "0    course   mother           2          2         0       yes     no   no   \n",
       "1    course   father           1          2         0        no    yes   no   \n",
       "..      ...      ...         ...        ...       ...       ...    ...  ...   \n",
       "393  course   mother           3          1         0        no     no   no   \n",
       "394  course   father           1          1         0        no     no   no   \n",
       "\n",
       "    activities nursery higher internet romantic  famrel  freetime  goout  \\\n",
       "0           no     yes    yes       no       no       4         3      4   \n",
       "1           no      no    yes      yes       no       5         3      3   \n",
       "..         ...     ...    ...      ...      ...     ...       ...    ...   \n",
       "393         no      no    yes      yes       no       4         4      1   \n",
       "394         no     yes    yes      yes       no       3         2      3   \n",
       "\n",
       "     Dalc  Walc  health  absences  G1  G2  G3  \n",
       "0       1     1       3         6   5   6   6  \n",
       "1       1     1       3         4   5   5   6  \n",
       "..    ...   ...     ...       ...  ..  ..  ..  \n",
       "393     3     4       5         0  11  12  10  \n",
       "394     3     3       5         5   8   9   9  \n",
       "\n",
       "[395 rows x 33 columns]"
      ]
     },
     "metadata": {},
     "output_type": "display_data"
    }
   ],
   "source": [
    "pd.options.display.max_columns = None\n",
    "pd.options.display.max_rows = 5\n",
    "display(df)"
   ]
  },
  {
   "cell_type": "markdown",
   "metadata": {},
   "source": [
    "# Deal with missing values done "
   ]
  },
  {
   "cell_type": "code",
   "execution_count": 4,
   "metadata": {},
   "outputs": [
    {
     "data": {
      "text/plain": [
       "school    0\n",
       "sex       0\n",
       "         ..\n",
       "G2        0\n",
       "G3        0\n",
       "Length: 33, dtype: int64"
      ]
     },
     "execution_count": 4,
     "metadata": {},
     "output_type": "execute_result"
    }
   ],
   "source": [
    "#Deal with missing values done \n",
    "#In your code, write comments justifying why you selected particular methods for dealing with missing values\n",
    "#Answer: There is no missing values.\n",
    "df.isnull().sum()"
   ]
  },
  {
   "cell_type": "markdown",
   "metadata": {},
   "source": [
    "# Check for outliers"
   ]
  },
  {
   "cell_type": "code",
   "execution_count": 5,
   "metadata": {},
   "outputs": [
    {
     "name": "stdout",
     "output_type": "stream",
     "text": [
      "school    float64\n",
      "sex       float64\n",
      "           ...   \n",
      "G2          int64\n",
      "G3          int64\n",
      "Length: 33, dtype: object\n"
     ]
    }
   ],
   "source": [
    "#Check for datatyes and convert to numerical values\n",
    "\n",
    "idx= df.columns\n",
    "\n",
    "for i in range(len(idx)):\n",
    "    temp = idx[i]\n",
    "    df[temp] = pd.to_numeric(df[temp], errors = 'coerce')\n",
    "print(df.dtypes)"
   ]
  },
  {
   "cell_type": "markdown",
   "metadata": {},
   "source": [
    "Check for outliers.  Do we keep them or do we drop them? Why? (explain with a few lines of comments or markdown in your code)\n",
    "\n",
    "Answer: We keep the outliers because the outliers creates a significant association which impacts data analysis."
   ]
  },
  {
   "cell_type": "code",
   "execution_count": 6,
   "metadata": {},
   "outputs": [
    {
     "data": {
      "image/png": "[encoded data removed]",
      "text/plain": [
       "<Figure size 432x288 with 1 Axes>"
      ]
     },
     "metadata": {
      "needs_background": "light"
     },
     "output_type": "display_data"
    },
    {
     "data": {
      "image/png": "[encoded data removed]",
      "text/plain": [
       "<Figure size 432x288 with 1 Axes>"
      ]
     },
     "metadata": {
      "needs_background": "light"
     },
     "output_type": "display_data"
    },
    {
     "data": {
      "image/png": "[encoded data removed]",
      "text/plain": [
       "<Figure size 432x288 with 1 Axes>"
      ]
     },
     "metadata": {
      "needs_background": "light"
     },
     "output_type": "display_data"
    },
    {
     "data": {
      "image/png": "[encoded data removed]",
      "text/plain": [
       "<Figure size 432x288 with 1 Axes>"
      ]
     },
     "metadata": {
      "needs_background": "light"
     },
     "output_type": "display_data"
    },
    {
     "data": {
      "image/png": "[encoded data removed]",
      "text/plain": [
       "<Figure size 432x288 with 1 Axes>"
      ]
     },
     "metadata": {
      "needs_background": "light"
     },
     "output_type": "display_data"
    },
    {
     "data": {
      "image/png": "[encoded data removed]",
      "text/plain": [
       "<Figure size 432x288 with 1 Axes>"
      ]
     },
     "metadata": {
      "needs_background": "light"
     },
     "output_type": "display_data"
    },
    {
     "data": {
      "image/png": "[encoded data removed]",
      "text/plain": [
       "<Figure size 432x288 with 1 Axes>"
      ]
     },
     "metadata": {
      "needs_background": "light"
     },
     "output_type": "display_data"
    },
    {
     "data": {
      "image/png": "[encoded data removed]",
      "text/plain": [
       "<Figure size 432x288 with 1 Axes>"
      ]
     },
     "metadata": {
      "needs_background": "light"
     },
     "output_type": "display_data"
    },
    {
     "data": {
      "image/png": "[encoded data removed]",
      "text/plain": [
       "<Figure size 432x288 with 1 Axes>"
      ]
     },
     "metadata": {
      "needs_background": "light"
     },
     "output_type": "display_data"
    },
    {
     "data": {
      "image/png": "[encoded data removed]",
      "text/plain": [
       "<Figure size 432x288 with 1 Axes>"
      ]
     },
     "metadata": {
      "needs_background": "light"
     },
     "output_type": "display_data"
    },
    {
     "data": {
      "image/png": "[encoded data removed]",
      "text/plain": [
       "<Figure size 432x288 with 1 Axes>"
      ]
     },
     "metadata": {
      "needs_background": "light"
     },
     "output_type": "display_data"
    },
    {
     "data": {
      "image/png": "[encoded data removed]",
      "text/plain": [
       "<Figure size 432x288 with 1 Axes>"
      ]
     },
     "metadata": {
      "needs_background": "light"
     },
     "output_type": "display_data"
    },
    {
     "data": {
      "image/png": "[encoded data removed]",
      "text/plain": [
       "<Figure size 432x288 with 1 Axes>"
      ]
     },
     "metadata": {
      "needs_background": "light"
     },
     "output_type": "display_data"
    },
    {
     "data": {
      "image/png": "[encoded data removed]",
      "text/plain": [
       "<Figure size 432x288 with 1 Axes>"
      ]
     },
     "metadata": {
      "needs_background": "light"
     },
     "output_type": "display_data"
    },
    {
     "data": {
      "image/png": "[encoded data removed]",
      "text/plain": [
       "<Figure size 432x288 with 1 Axes>"
      ]
     },
     "metadata": {
      "needs_background": "light"
     },
     "output_type": "display_data"
    },
    {
     "data": {
      "image/png": "[encoded data removed]",
      "text/plain": [
       "<Figure size 432x288 with 1 Axes>"
      ]
     },
     "metadata": {
      "needs_background": "light"
     },
     "output_type": "display_data"
    },
    {
     "data": {
      "image/png": "[encoded data removed]",
      "text/plain": [
       "<Figure size 432x288 with 1 Axes>"
      ]
     },
     "metadata": {
      "needs_background": "light"
     },
     "output_type": "display_data"
    },
    {
     "data": {
      "image/png": "[encoded data removed]",
      "text/plain": [
       "<Figure size 432x288 with 1 Axes>"
      ]
     },
     "metadata": {
      "needs_background": "light"
     },
     "output_type": "display_data"
    },
    {
     "data": {
      "image/png": "[encoded data removed]",
      "text/plain": [
       "<Figure size 432x288 with 1 Axes>"
      ]
     },
     "metadata": {
      "needs_background": "light"
     },
     "output_type": "display_data"
    },
    {
     "data": {
      "image/png": "[encoded data removed]",
      "text/plain": [
       "<Figure size 432x288 with 1 Axes>"
      ]
     },
     "metadata": {
      "needs_background": "light"
     },
     "output_type": "display_data"
    },
    {
     "data": {
      "image/png": "[encoded data removed]",
      "text/plain": [
       "<Figure size 432x288 with 1 Axes>"
      ]
     },
     "metadata": {
      "needs_background": "light"
     },
     "output_type": "display_data"
    },
    {
     "data": {
      "image/png": "[encoded data removed]",
      "text/plain": [
       "<Figure size 432x288 with 1 Axes>"
      ]
     },
     "metadata": {
      "needs_background": "light"
     },
     "output_type": "display_data"
    },
    {
     "data": {
      "image/png": "[encoded data removed]",
      "text/plain": [
       "<Figure size 432x288 with 1 Axes>"
      ]
     },
     "metadata": {
      "needs_background": "light"
     },
     "output_type": "display_data"
    },
    {
     "data": {
      "image/png": "[encoded data removed]",
      "text/plain": [
       "<Figure size 432x288 with 1 Axes>"
      ]
     },
     "metadata": {
      "needs_background": "light"
     },
     "output_type": "display_data"
    },
    {
     "data": {
      "image/png": "[encoded data removed]",
      "text/plain": [
       "<Figure size 432x288 with 1 Axes>"
      ]
     },
     "metadata": {
      "needs_background": "light"
     },
     "output_type": "display_data"
    },
    {
     "data": {
      "image/png": "[encoded data removed]",
      "text/plain": [
       "<Figure size 432x288 with 1 Axes>"
      ]
     },
     "metadata": {
      "needs_background": "light"
     },
     "output_type": "display_data"
    },
    {
     "data": {
      "image/png": "[encoded data removed]",
      "text/plain": [
       "<Figure size 432x288 with 1 Axes>"
      ]
     },
     "metadata": {
      "needs_background": "light"
     },
     "output_type": "display_data"
    },
    {
     "data": {
      "image/png": "[encoded data removed]",
      "text/plain": [
       "<Figure size 432x288 with 1 Axes>"
      ]
     },
     "metadata": {
      "needs_background": "light"
     },
     "output_type": "display_data"
    },
    {
     "data": {
      "image/png": "[encoded data removed]",
      "text/plain": [
       "<Figure size 432x288 with 1 Axes>"
      ]
     },
     "metadata": {
      "needs_background": "light"
     },
     "output_type": "display_data"
    },
    {
     "data": {
      "image/png": "[encoded data removed]",
      "text/plain": [
       "<Figure size 432x288 with 1 Axes>"
      ]
     },
     "metadata": {
      "needs_background": "light"
     },
     "output_type": "display_data"
    },
    {
     "data": {
      "image/png": "[encoded data removed]",
      "text/plain": [
       "<Figure size 432x288 with 1 Axes>"
      ]
     },
     "metadata": {
      "needs_background": "light"
     },
     "output_type": "display_data"
    },
    {
     "data": {
      "image/png": "[encoded data removed]",
      "text/plain": [
       "<Figure size 432x288 with 1 Axes>"
      ]
     },
     "metadata": {
      "needs_background": "light"
     },
     "output_type": "display_data"
    },
    {
     "data": {
      "image/png": "[encoded data removed]",
      "text/plain": [
       "<Figure size 432x288 with 1 Axes>"
      ]
     },
     "metadata": {
      "needs_background": "light"
     },
     "output_type": "display_data"
    }
   ],
   "source": [
    "#Generate boxplots that demonstrate outliers\n",
    "for i in range(len(idx)):\n",
    "    temp = idx[i]\n",
    "    sns.boxplot(x = df[temp], whis = [5, 95])\n",
    "    plt.show()"
   ]
  },
  {
   "cell_type": "markdown",
   "metadata": {},
   "source": [
    "# Center and scale data as needed"
   ]
  },
  {
   "cell_type": "markdown",
   "metadata": {},
   "source": [
    "No center and scaling needed because histogram and distrubtions display are well centered and scalled. Ones that need to be center and scale have very high skews that worth representing. "
   ]
  },
  {
   "cell_type": "code",
   "execution_count": 7,
   "metadata": {},
   "outputs": [
    {
     "name": "stderr",
     "output_type": "stream",
     "text": [
      "C:\\ProgramData\\anaconda3\\lib\\site-packages\\scipy\\stats\\stats.py:1713: FutureWarning: Using a non-tuple sequence for multidimensional indexing is deprecated; use `arr[tuple(seq)]` instead of `arr[seq]`. In the future this will be interpreted as an array index, `arr[np.array(seq)]`, which will result either in an error or a different result.\n",
      "  return np.add.reduce(sorted[indexer] * weights, axis=axis) / sumval\n"
     ]
    },
    {
     "data": {
      "image/png": "[encoded data removed]",
      "text/plain": [
       "<Figure size 432x288 with 1 Axes>"
      ]
     },
     "metadata": {
      "needs_background": "light"
     },
     "output_type": "display_data"
    },
    {
     "data": {
      "image/png": "[encoded data removed]",
      "text/plain": [
       "<Figure size 432x288 with 1 Axes>"
      ]
     },
     "metadata": {
      "needs_background": "light"
     },
     "output_type": "display_data"
    },
    {
     "data": {
      "image/png": "[encoded data removed]",
      "text/plain": [
       "<Figure size 432x288 with 1 Axes>"
      ]
     },
     "metadata": {
      "needs_background": "light"
     },
     "output_type": "display_data"
    },
    {
     "data": {
      "image/png": "[encoded data removed]",
      "text/plain": [
       "<Figure size 432x288 with 1 Axes>"
      ]
     },
     "metadata": {
      "needs_background": "light"
     },
     "output_type": "display_data"
    },
    {
     "data": {
      "image/png": "[encoded data removed]",
      "text/plain": [
       "<Figure size 432x288 with 1 Axes>"
      ]
     },
     "metadata": {
      "needs_background": "light"
     },
     "output_type": "display_data"
    },
    {
     "data": {
      "image/png": "[encoded data removed]",
      "text/plain": [
       "<Figure size 432x288 with 1 Axes>"
      ]
     },
     "metadata": {
      "needs_background": "light"
     },
     "output_type": "display_data"
    },
    {
     "data": {
      "image/png": "[encoded data removed]",
      "text/plain": [
       "<Figure size 432x288 with 1 Axes>"
      ]
     },
     "metadata": {
      "needs_background": "light"
     },
     "output_type": "display_data"
    },
    {
     "data": {
      "image/png": "[encoded data removed]",
      "text/plain": [
       "<Figure size 432x288 with 1 Axes>"
      ]
     },
     "metadata": {
      "needs_background": "light"
     },
     "output_type": "display_data"
    },
    {
     "data": {
      "image/png": "[encoded data removed]",
      "text/plain": [
       "<Figure size 432x288 with 1 Axes>"
      ]
     },
     "metadata": {
      "needs_background": "light"
     },
     "output_type": "display_data"
    },
    {
     "data": {
      "image/png": "[encoded data removed]",
      "text/plain": [
       "<Figure size 432x288 with 1 Axes>"
      ]
     },
     "metadata": {
      "needs_background": "light"
     },
     "output_type": "display_data"
    },
    {
     "data": {
      "image/png": "[encoded data removed]",
      "text/plain": [
       "<Figure size 432x288 with 1 Axes>"
      ]
     },
     "metadata": {
      "needs_background": "light"
     },
     "output_type": "display_data"
    },
    {
     "data": {
      "image/png": "[encoded data removed]",
      "text/plain": [
       "<Figure size 432x288 with 1 Axes>"
      ]
     },
     "metadata": {
      "needs_background": "light"
     },
     "output_type": "display_data"
    },
    {
     "data": {
      "image/png": "[encoded data removed]",
      "text/plain": [
       "<Figure size 432x288 with 1 Axes>"
      ]
     },
     "metadata": {
      "needs_background": "light"
     },
     "output_type": "display_data"
    },
    {
     "data": {
      "image/png": "[encoded data removed]",
      "text/plain": [
       "<Figure size 432x288 with 1 Axes>"
      ]
     },
     "metadata": {
      "needs_background": "light"
     },
     "output_type": "display_data"
    },
    {
     "data": {
      "image/png": "[encoded data removed]",
      "text/plain": [
       "<Figure size 432x288 with 1 Axes>"
      ]
     },
     "metadata": {
      "needs_background": "light"
     },
     "output_type": "display_data"
    },
    {
     "data": {
      "image/png": "[encoded data removed]",
      "text/plain": [
       "<Figure size 432x288 with 1 Axes>"
      ]
     },
     "metadata": {
      "needs_background": "light"
     },
     "output_type": "display_data"
    }
   ],
   "source": [
    "#Generate histograms with distrubtion curve for every field that contains continuous data\n",
    "sns.distplot(df['age'].values)\n",
    "plt.show()\n",
    "sns.distplot(df['Medu'].values)\n",
    "plt.show()\n",
    "sns.distplot(df['Fedu'].values)\n",
    "plt.show()\n",
    "sns.distplot(df['traveltime'].values)\n",
    "plt.show()\n",
    "sns.distplot(df['studytime'].values)\n",
    "plt.show()\n",
    "sns.distplot(df['failures'].values)\n",
    "plt.show()\n",
    "sns.distplot(df['famrel'].values)\n",
    "plt.show()\n",
    "sns.distplot(df['freetime'].values)\n",
    "plt.show()\n",
    "sns.distplot(df['goout'].values)\n",
    "plt.show()\n",
    "sns.distplot(df['Dalc'].values)\n",
    "plt.show()\n",
    "sns.distplot(df['Walc'].values)\n",
    "plt.show()\n",
    "sns.distplot(df['health'].values)\n",
    "plt.show()\n",
    "sns.distplot(df['absences'].values)\n",
    "plt.show()\n",
    "sns.distplot(df['G1'].values)\n",
    "plt.show()\n",
    "sns.distplot(df['G2'].values)\n",
    "plt.show()\n",
    "sns.distplot(df['G3'].values)\n",
    "plt.show()"
   ]
  },
  {
   "cell_type": "code",
   "execution_count": 8,
   "metadata": {},
   "outputs": [
    {
     "data": {
      "image/png": "[encoded data removed]",
      "text/plain": [
       "<Figure size 432x288 with 1 Axes>"
      ]
     },
     "metadata": {
      "needs_background": "light"
     },
     "output_type": "display_data"
    },
    {
     "data": {
      "image/png": "[encoded data removed]",
      "text/plain": [
       "<Figure size 432x288 with 1 Axes>"
      ]
     },
     "metadata": {
      "needs_background": "light"
     },
     "output_type": "display_data"
    },
    {
     "data": {
      "image/png": "[encoded data removed]",
      "text/plain": [
       "<Figure size 432x288 with 1 Axes>"
      ]
     },
     "metadata": {
      "needs_background": "light"
     },
     "output_type": "display_data"
    },
    {
     "data": {
      "image/png": "[encoded data removed]",
      "text/plain": [
       "<Figure size 432x288 with 1 Axes>"
      ]
     },
     "metadata": {
      "needs_background": "light"
     },
     "output_type": "display_data"
    },
    {
     "data": {
      "image/png": "[encoded data removed]",
      "text/plain": [
       "<Figure size 432x288 with 1 Axes>"
      ]
     },
     "metadata": {
      "needs_background": "light"
     },
     "output_type": "display_data"
    },
    {
     "data": {
      "image/png": "[encoded data removed]",
      "text/plain": [
       "<Figure size 432x288 with 1 Axes>"
      ]
     },
     "metadata": {
      "needs_background": "light"
     },
     "output_type": "display_data"
    },
    {
     "data": {
      "image/png": "[encoded data removed]",
      "text/plain": [
       "<Figure size 432x288 with 1 Axes>"
      ]
     },
     "metadata": {
      "needs_background": "light"
     },
     "output_type": "display_data"
    },
    {
     "data": {
      "image/png": "[encoded data removed]",
      "text/plain": [
       "<Figure size 432x288 with 1 Axes>"
      ]
     },
     "metadata": {
      "needs_background": "light"
     },
     "output_type": "display_data"
    },
    {
     "data": {
      "image/png": "[encoded data removed]",
      "text/plain": [
       "<Figure size 432x288 with 1 Axes>"
      ]
     },
     "metadata": {
      "needs_background": "light"
     },
     "output_type": "display_data"
    },
    {
     "data": {
      "image/png": "[encoded data removed]",
      "text/plain": [
       "<Figure size 432x288 with 1 Axes>"
      ]
     },
     "metadata": {
      "needs_background": "light"
     },
     "output_type": "display_data"
    },
    {
     "data": {
      "image/png": "[encoded data removed]",
      "text/plain": [
       "<Figure size 432x288 with 1 Axes>"
      ]
     },
     "metadata": {
      "needs_background": "light"
     },
     "output_type": "display_data"
    },
    {
     "data": {
      "image/png": "[encoded data removed]",
      "text/plain": [
       "<Figure size 432x288 with 1 Axes>"
      ]
     },
     "metadata": {
      "needs_background": "light"
     },
     "output_type": "display_data"
    },
    {
     "data": {
      "image/png": "[encoded data removed]",
      "text/plain": [
       "<Figure size 432x288 with 1 Axes>"
      ]
     },
     "metadata": {
      "needs_background": "light"
     },
     "output_type": "display_data"
    },
    {
     "data": {
      "image/png": "[encoded data removed]",
      "text/plain": [
       "<Figure size 432x288 with 1 Axes>"
      ]
     },
     "metadata": {
      "needs_background": "light"
     },
     "output_type": "display_data"
    },
    {
     "data": {
      "image/png": "[encoded data removed]",
      "text/plain": [
       "<Figure size 432x288 with 1 Axes>"
      ]
     },
     "metadata": {
      "needs_background": "light"
     },
     "output_type": "display_data"
    },
    {
     "data": {
      "image/png": "[encoded data removed]",
      "text/plain": [
       "<Figure size 432x288 with 1 Axes>"
      ]
     },
     "metadata": {
      "needs_background": "light"
     },
     "output_type": "display_data"
    }
   ],
   "source": [
    "#Generate a histogram for every field that contains continuous data\n",
    "plt.hist(df['age'].values)\n",
    "plt.show()\n",
    "plt.hist(df['Medu'].values)\n",
    "plt.show()\n",
    "plt.hist(df['Fedu'].values)\n",
    "plt.show()\n",
    "plt.hist(df['traveltime'].values)\n",
    "plt.show()\n",
    "plt.hist(df['studytime'].values)\n",
    "plt.show()\n",
    "plt.hist(df['failures'].values)\n",
    "plt.show()\n",
    "plt.hist(df['famrel'].values)\n",
    "plt.show()\n",
    "plt.hist(df['freetime'].values)\n",
    "plt.show()\n",
    "plt.hist(df['goout'].values)\n",
    "plt.show()\n",
    "plt.hist(df['Dalc'].values)\n",
    "plt.show()\n",
    "plt.hist(df['Walc'].values)\n",
    "plt.show()\n",
    "plt.hist(df['health'].values)\n",
    "plt.show()\n",
    "plt.hist(df['absences'].values)\n",
    "plt.show()\n",
    "plt.hist(df['G1'].values)\n",
    "plt.show()\n",
    "plt.hist(df['G2'].values)\n",
    "plt.show()\n",
    "plt.hist(df['G3'].values)\n",
    "plt.show()"
   ]
  },
  {
   "cell_type": "code",
   "execution_count": 9,
   "metadata": {},
   "outputs": [
    {
     "data": {
      "image/png": "[encoded data removed]",
      "text/plain": [
       "<Figure size 432x288 with 1 Axes>"
      ]
     },
     "metadata": {
      "needs_background": "light"
     },
     "output_type": "display_data"
    }
   ],
   "source": [
    "#Combined histograms of continous data\n",
    "for i in range(len(idx)):\n",
    "    temp = idx[i]\n",
    "    df[temp].hist()"
   ]
  },
  {
   "cell_type": "markdown",
   "metadata": {},
   "source": [
    "# Convert columns that contain discrete data to dummy variables"
   ]
  },
  {
   "cell_type": "code",
   "execution_count": 10,
   "metadata": {},
   "outputs": [],
   "source": [
    "df = pd.read_csv('student-mat.csv', sep=';')\n",
    "\n",
    "dummy = pd.get_dummies(df[list(df)])"
   ]
  },
  {
   "cell_type": "code",
   "execution_count": 11,
   "metadata": {},
   "outputs": [
    {
     "data": {
      "text/html": [
       "<div>\n",
       "<style scoped>\n",
       "    .dataframe tbody tr th:only-of-type {\n",
       "        vertical-align: middle;\n",
       "    }\n",
       "\n",
       "    .dataframe tbody tr th {\n",
       "        vertical-align: top;\n",
       "    }\n",
       "\n",
       "    .dataframe thead th {\n",
       "        text-align: right;\n",
       "    }\n",
       "</style>\n",
       "<table border=\"1\" class=\"dataframe\">\n",
       "  <thead>\n",
       "    <tr style=\"text-align: right;\">\n",
       "      <th></th>\n",
       "      <th>age</th>\n",
       "      <th>Medu</th>\n",
       "      <th>Fedu</th>\n",
       "      <th>traveltime</th>\n",
       "      <th>studytime</th>\n",
       "      <th>failures</th>\n",
       "      <th>famrel</th>\n",
       "      <th>freetime</th>\n",
       "      <th>goout</th>\n",
       "      <th>Dalc</th>\n",
       "      <th>Walc</th>\n",
       "      <th>health</th>\n",
       "      <th>absences</th>\n",
       "      <th>G1</th>\n",
       "      <th>G2</th>\n",
       "      <th>G3</th>\n",
       "      <th>school_GP</th>\n",
       "      <th>school_MS</th>\n",
       "      <th>sex_F</th>\n",
       "      <th>sex_M</th>\n",
       "      <th>address_R</th>\n",
       "      <th>address_U</th>\n",
       "      <th>famsize_GT3</th>\n",
       "      <th>famsize_LE3</th>\n",
       "      <th>Pstatus_A</th>\n",
       "      <th>Pstatus_T</th>\n",
       "      <th>Mjob_at_home</th>\n",
       "      <th>Mjob_health</th>\n",
       "      <th>Mjob_other</th>\n",
       "      <th>Mjob_services</th>\n",
       "      <th>Mjob_teacher</th>\n",
       "      <th>Fjob_at_home</th>\n",
       "      <th>Fjob_health</th>\n",
       "      <th>Fjob_other</th>\n",
       "      <th>Fjob_services</th>\n",
       "      <th>Fjob_teacher</th>\n",
       "      <th>reason_course</th>\n",
       "      <th>reason_home</th>\n",
       "      <th>reason_other</th>\n",
       "      <th>reason_reputation</th>\n",
       "      <th>guardian_father</th>\n",
       "      <th>guardian_mother</th>\n",
       "      <th>guardian_other</th>\n",
       "      <th>schoolsup_no</th>\n",
       "      <th>schoolsup_yes</th>\n",
       "      <th>famsup_no</th>\n",
       "      <th>famsup_yes</th>\n",
       "      <th>paid_no</th>\n",
       "      <th>paid_yes</th>\n",
       "      <th>activities_no</th>\n",
       "      <th>activities_yes</th>\n",
       "      <th>nursery_no</th>\n",
       "      <th>nursery_yes</th>\n",
       "      <th>higher_no</th>\n",
       "      <th>higher_yes</th>\n",
       "      <th>internet_no</th>\n",
       "      <th>internet_yes</th>\n",
       "      <th>romantic_no</th>\n",
       "      <th>romantic_yes</th>\n",
       "    </tr>\n",
       "  </thead>\n",
       "  <tbody>\n",
       "    <tr>\n",
       "      <th>0</th>\n",
       "      <td>18</td>\n",
       "      <td>4</td>\n",
       "      <td>4</td>\n",
       "      <td>2</td>\n",
       "      <td>2</td>\n",
       "      <td>0</td>\n",
       "      <td>4</td>\n",
       "      <td>3</td>\n",
       "      <td>4</td>\n",
       "      <td>1</td>\n",
       "      <td>1</td>\n",
       "      <td>3</td>\n",
       "      <td>6</td>\n",
       "      <td>5</td>\n",
       "      <td>6</td>\n",
       "      <td>6</td>\n",
       "      <td>1</td>\n",
       "      <td>0</td>\n",
       "      <td>1</td>\n",
       "      <td>0</td>\n",
       "      <td>0</td>\n",
       "      <td>1</td>\n",
       "      <td>1</td>\n",
       "      <td>0</td>\n",
       "      <td>1</td>\n",
       "      <td>0</td>\n",
       "      <td>1</td>\n",
       "      <td>0</td>\n",
       "      <td>0</td>\n",
       "      <td>0</td>\n",
       "      <td>0</td>\n",
       "      <td>0</td>\n",
       "      <td>0</td>\n",
       "      <td>0</td>\n",
       "      <td>0</td>\n",
       "      <td>1</td>\n",
       "      <td>1</td>\n",
       "      <td>0</td>\n",
       "      <td>0</td>\n",
       "      <td>0</td>\n",
       "      <td>0</td>\n",
       "      <td>1</td>\n",
       "      <td>0</td>\n",
       "      <td>0</td>\n",
       "      <td>1</td>\n",
       "      <td>1</td>\n",
       "      <td>0</td>\n",
       "      <td>1</td>\n",
       "      <td>0</td>\n",
       "      <td>1</td>\n",
       "      <td>0</td>\n",
       "      <td>0</td>\n",
       "      <td>1</td>\n",
       "      <td>0</td>\n",
       "      <td>1</td>\n",
       "      <td>1</td>\n",
       "      <td>0</td>\n",
       "      <td>1</td>\n",
       "      <td>0</td>\n",
       "    </tr>\n",
       "    <tr>\n",
       "      <th>1</th>\n",
       "      <td>17</td>\n",
       "      <td>1</td>\n",
       "      <td>1</td>\n",
       "      <td>1</td>\n",
       "      <td>2</td>\n",
       "      <td>0</td>\n",
       "      <td>5</td>\n",
       "      <td>3</td>\n",
       "      <td>3</td>\n",
       "      <td>1</td>\n",
       "      <td>1</td>\n",
       "      <td>3</td>\n",
       "      <td>4</td>\n",
       "      <td>5</td>\n",
       "      <td>5</td>\n",
       "      <td>6</td>\n",
       "      <td>1</td>\n",
       "      <td>0</td>\n",
       "      <td>1</td>\n",
       "      <td>0</td>\n",
       "      <td>0</td>\n",
       "      <td>1</td>\n",
       "      <td>1</td>\n",
       "      <td>0</td>\n",
       "      <td>0</td>\n",
       "      <td>1</td>\n",
       "      <td>1</td>\n",
       "      <td>0</td>\n",
       "      <td>0</td>\n",
       "      <td>0</td>\n",
       "      <td>0</td>\n",
       "      <td>0</td>\n",
       "      <td>0</td>\n",
       "      <td>1</td>\n",
       "      <td>0</td>\n",
       "      <td>0</td>\n",
       "      <td>1</td>\n",
       "      <td>0</td>\n",
       "      <td>0</td>\n",
       "      <td>0</td>\n",
       "      <td>1</td>\n",
       "      <td>0</td>\n",
       "      <td>0</td>\n",
       "      <td>1</td>\n",
       "      <td>0</td>\n",
       "      <td>0</td>\n",
       "      <td>1</td>\n",
       "      <td>1</td>\n",
       "      <td>0</td>\n",
       "      <td>1</td>\n",
       "      <td>0</td>\n",
       "      <td>1</td>\n",
       "      <td>0</td>\n",
       "      <td>0</td>\n",
       "      <td>1</td>\n",
       "      <td>0</td>\n",
       "      <td>1</td>\n",
       "      <td>1</td>\n",
       "      <td>0</td>\n",
       "    </tr>\n",
       "    <tr>\n",
       "      <th>2</th>\n",
       "      <td>15</td>\n",
       "      <td>1</td>\n",
       "      <td>1</td>\n",
       "      <td>1</td>\n",
       "      <td>2</td>\n",
       "      <td>3</td>\n",
       "      <td>4</td>\n",
       "      <td>3</td>\n",
       "      <td>2</td>\n",
       "      <td>2</td>\n",
       "      <td>3</td>\n",
       "      <td>3</td>\n",
       "      <td>10</td>\n",
       "      <td>7</td>\n",
       "      <td>8</td>\n",
       "      <td>10</td>\n",
       "      <td>1</td>\n",
       "      <td>0</td>\n",
       "      <td>1</td>\n",
       "      <td>0</td>\n",
       "      <td>0</td>\n",
       "      <td>1</td>\n",
       "      <td>0</td>\n",
       "      <td>1</td>\n",
       "      <td>0</td>\n",
       "      <td>1</td>\n",
       "      <td>1</td>\n",
       "      <td>0</td>\n",
       "      <td>0</td>\n",
       "      <td>0</td>\n",
       "      <td>0</td>\n",
       "      <td>0</td>\n",
       "      <td>0</td>\n",
       "      <td>1</td>\n",
       "      <td>0</td>\n",
       "      <td>0</td>\n",
       "      <td>0</td>\n",
       "      <td>0</td>\n",
       "      <td>1</td>\n",
       "      <td>0</td>\n",
       "      <td>0</td>\n",
       "      <td>1</td>\n",
       "      <td>0</td>\n",
       "      <td>0</td>\n",
       "      <td>1</td>\n",
       "      <td>1</td>\n",
       "      <td>0</td>\n",
       "      <td>0</td>\n",
       "      <td>1</td>\n",
       "      <td>1</td>\n",
       "      <td>0</td>\n",
       "      <td>0</td>\n",
       "      <td>1</td>\n",
       "      <td>0</td>\n",
       "      <td>1</td>\n",
       "      <td>0</td>\n",
       "      <td>1</td>\n",
       "      <td>1</td>\n",
       "      <td>0</td>\n",
       "    </tr>\n",
       "    <tr>\n",
       "      <th>3</th>\n",
       "      <td>15</td>\n",
       "      <td>4</td>\n",
       "      <td>2</td>\n",
       "      <td>1</td>\n",
       "      <td>3</td>\n",
       "      <td>0</td>\n",
       "      <td>3</td>\n",
       "      <td>2</td>\n",
       "      <td>2</td>\n",
       "      <td>1</td>\n",
       "      <td>1</td>\n",
       "      <td>5</td>\n",
       "      <td>2</td>\n",
       "      <td>15</td>\n",
       "      <td>14</td>\n",
       "      <td>15</td>\n",
       "      <td>1</td>\n",
       "      <td>0</td>\n",
       "      <td>1</td>\n",
       "      <td>0</td>\n",
       "      <td>0</td>\n",
       "      <td>1</td>\n",
       "      <td>1</td>\n",
       "      <td>0</td>\n",
       "      <td>0</td>\n",
       "      <td>1</td>\n",
       "      <td>0</td>\n",
       "      <td>1</td>\n",
       "      <td>0</td>\n",
       "      <td>0</td>\n",
       "      <td>0</td>\n",
       "      <td>0</td>\n",
       "      <td>0</td>\n",
       "      <td>0</td>\n",
       "      <td>1</td>\n",
       "      <td>0</td>\n",
       "      <td>0</td>\n",
       "      <td>1</td>\n",
       "      <td>0</td>\n",
       "      <td>0</td>\n",
       "      <td>0</td>\n",
       "      <td>1</td>\n",
       "      <td>0</td>\n",
       "      <td>1</td>\n",
       "      <td>0</td>\n",
       "      <td>0</td>\n",
       "      <td>1</td>\n",
       "      <td>0</td>\n",
       "      <td>1</td>\n",
       "      <td>0</td>\n",
       "      <td>1</td>\n",
       "      <td>0</td>\n",
       "      <td>1</td>\n",
       "      <td>0</td>\n",
       "      <td>1</td>\n",
       "      <td>0</td>\n",
       "      <td>1</td>\n",
       "      <td>0</td>\n",
       "      <td>1</td>\n",
       "    </tr>\n",
       "    <tr>\n",
       "      <th>4</th>\n",
       "      <td>16</td>\n",
       "      <td>3</td>\n",
       "      <td>3</td>\n",
       "      <td>1</td>\n",
       "      <td>2</td>\n",
       "      <td>0</td>\n",
       "      <td>4</td>\n",
       "      <td>3</td>\n",
       "      <td>2</td>\n",
       "      <td>1</td>\n",
       "      <td>2</td>\n",
       "      <td>5</td>\n",
       "      <td>4</td>\n",
       "      <td>6</td>\n",
       "      <td>10</td>\n",
       "      <td>10</td>\n",
       "      <td>1</td>\n",
       "      <td>0</td>\n",
       "      <td>1</td>\n",
       "      <td>0</td>\n",
       "      <td>0</td>\n",
       "      <td>1</td>\n",
       "      <td>1</td>\n",
       "      <td>0</td>\n",
       "      <td>0</td>\n",
       "      <td>1</td>\n",
       "      <td>0</td>\n",
       "      <td>0</td>\n",
       "      <td>1</td>\n",
       "      <td>0</td>\n",
       "      <td>0</td>\n",
       "      <td>0</td>\n",
       "      <td>0</td>\n",
       "      <td>1</td>\n",
       "      <td>0</td>\n",
       "      <td>0</td>\n",
       "      <td>0</td>\n",
       "      <td>1</td>\n",
       "      <td>0</td>\n",
       "      <td>0</td>\n",
       "      <td>1</td>\n",
       "      <td>0</td>\n",
       "      <td>0</td>\n",
       "      <td>1</td>\n",
       "      <td>0</td>\n",
       "      <td>0</td>\n",
       "      <td>1</td>\n",
       "      <td>0</td>\n",
       "      <td>1</td>\n",
       "      <td>1</td>\n",
       "      <td>0</td>\n",
       "      <td>0</td>\n",
       "      <td>1</td>\n",
       "      <td>0</td>\n",
       "      <td>1</td>\n",
       "      <td>1</td>\n",
       "      <td>0</td>\n",
       "      <td>1</td>\n",
       "      <td>0</td>\n",
       "    </tr>\n",
       "  </tbody>\n",
       "</table>\n",
       "</div>"
      ],
      "text/plain": [
       "   age  Medu  Fedu  traveltime  studytime  failures  famrel  freetime  goout  \\\n",
       "0   18     4     4           2          2         0       4         3      4   \n",
       "1   17     1     1           1          2         0       5         3      3   \n",
       "2   15     1     1           1          2         3       4         3      2   \n",
       "3   15     4     2           1          3         0       3         2      2   \n",
       "4   16     3     3           1          2         0       4         3      2   \n",
       "\n",
       "   Dalc  Walc  health  absences  G1  G2  G3  school_GP  school_MS  sex_F  \\\n",
       "0     1     1       3         6   5   6   6          1          0      1   \n",
       "1     1     1       3         4   5   5   6          1          0      1   \n",
       "2     2     3       3        10   7   8  10          1          0      1   \n",
       "3     1     1       5         2  15  14  15          1          0      1   \n",
       "4     1     2       5         4   6  10  10          1          0      1   \n",
       "\n",
       "   sex_M  address_R  address_U  famsize_GT3  famsize_LE3  Pstatus_A  \\\n",
       "0      0          0          1            1            0          1   \n",
       "1      0          0          1            1            0          0   \n",
       "2      0          0          1            0            1          0   \n",
       "3      0          0          1            1            0          0   \n",
       "4      0          0          1            1            0          0   \n",
       "\n",
       "   Pstatus_T  Mjob_at_home  Mjob_health  Mjob_other  Mjob_services  \\\n",
       "0          0             1            0           0              0   \n",
       "1          1             1            0           0              0   \n",
       "2          1             1            0           0              0   \n",
       "3          1             0            1           0              0   \n",
       "4          1             0            0           1              0   \n",
       "\n",
       "   Mjob_teacher  Fjob_at_home  Fjob_health  Fjob_other  Fjob_services  \\\n",
       "0             0             0            0           0              0   \n",
       "1             0             0            0           1              0   \n",
       "2             0             0            0           1              0   \n",
       "3             0             0            0           0              1   \n",
       "4             0             0            0           1              0   \n",
       "\n",
       "   Fjob_teacher  reason_course  reason_home  reason_other  reason_reputation  \\\n",
       "0             1              1            0             0                  0   \n",
       "1             0              1            0             0                  0   \n",
       "2             0              0            0             1                  0   \n",
       "3             0              0            1             0                  0   \n",
       "4             0              0            1             0                  0   \n",
       "\n",
       "   guardian_father  guardian_mother  guardian_other  schoolsup_no  \\\n",
       "0                0                1               0             0   \n",
       "1                1                0               0             1   \n",
       "2                0                1               0             0   \n",
       "3                0                1               0             1   \n",
       "4                1                0               0             1   \n",
       "\n",
       "   schoolsup_yes  famsup_no  famsup_yes  paid_no  paid_yes  activities_no  \\\n",
       "0              1          1           0        1         0              1   \n",
       "1              0          0           1        1         0              1   \n",
       "2              1          1           0        0         1              1   \n",
       "3              0          0           1        0         1              0   \n",
       "4              0          0           1        0         1              1   \n",
       "\n",
       "   activities_yes  nursery_no  nursery_yes  higher_no  higher_yes  \\\n",
       "0               0           0            1          0           1   \n",
       "1               0           1            0          0           1   \n",
       "2               0           0            1          0           1   \n",
       "3               1           0            1          0           1   \n",
       "4               0           0            1          0           1   \n",
       "\n",
       "   internet_no  internet_yes  romantic_no  romantic_yes  \n",
       "0            1             0            1             0  \n",
       "1            0             1            1             0  \n",
       "2            0             1            1             0  \n",
       "3            0             1            0             1  \n",
       "4            1             0            1             0  "
      ]
     },
     "execution_count": 11,
     "metadata": {},
     "output_type": "execute_result"
    }
   ],
   "source": [
    "dummy.head()"
   ]
  },
  {
   "cell_type": "markdown",
   "metadata": {},
   "source": [
    "# Linear Regression Model for Absences "
   ]
  },
  {
   "cell_type": "code",
   "execution_count": 12,
   "metadata": {},
   "outputs": [
    {
     "data": {
      "text/html": [
       "<div>\n",
       "<style scoped>\n",
       "    .dataframe tbody tr th:only-of-type {\n",
       "        vertical-align: middle;\n",
       "    }\n",
       "\n",
       "    .dataframe tbody tr th {\n",
       "        vertical-align: top;\n",
       "    }\n",
       "\n",
       "    .dataframe thead th {\n",
       "        text-align: right;\n",
       "    }\n",
       "</style>\n",
       "<table border=\"1\" class=\"dataframe\">\n",
       "  <thead>\n",
       "    <tr style=\"text-align: right;\">\n",
       "      <th></th>\n",
       "      <th>age</th>\n",
       "      <th>Medu</th>\n",
       "      <th>Fedu</th>\n",
       "      <th>traveltime</th>\n",
       "      <th>studytime</th>\n",
       "      <th>failures</th>\n",
       "      <th>famrel</th>\n",
       "      <th>freetime</th>\n",
       "      <th>goout</th>\n",
       "      <th>Dalc</th>\n",
       "      <th>Walc</th>\n",
       "      <th>health</th>\n",
       "      <th>absences</th>\n",
       "      <th>G1</th>\n",
       "      <th>G2</th>\n",
       "      <th>G3</th>\n",
       "      <th>school_GP</th>\n",
       "      <th>school_MS</th>\n",
       "      <th>sex_F</th>\n",
       "      <th>sex_M</th>\n",
       "      <th>address_R</th>\n",
       "      <th>address_U</th>\n",
       "      <th>famsize_GT3</th>\n",
       "      <th>famsize_LE3</th>\n",
       "      <th>Pstatus_A</th>\n",
       "      <th>Pstatus_T</th>\n",
       "      <th>Mjob_at_home</th>\n",
       "      <th>Mjob_health</th>\n",
       "      <th>Mjob_other</th>\n",
       "      <th>Mjob_services</th>\n",
       "      <th>Mjob_teacher</th>\n",
       "      <th>Fjob_at_home</th>\n",
       "      <th>Fjob_health</th>\n",
       "      <th>Fjob_other</th>\n",
       "      <th>Fjob_services</th>\n",
       "      <th>Fjob_teacher</th>\n",
       "      <th>reason_course</th>\n",
       "      <th>reason_home</th>\n",
       "      <th>reason_other</th>\n",
       "      <th>reason_reputation</th>\n",
       "      <th>guardian_father</th>\n",
       "      <th>guardian_mother</th>\n",
       "      <th>guardian_other</th>\n",
       "      <th>schoolsup_no</th>\n",
       "      <th>schoolsup_yes</th>\n",
       "      <th>famsup_no</th>\n",
       "      <th>famsup_yes</th>\n",
       "      <th>paid_no</th>\n",
       "      <th>paid_yes</th>\n",
       "      <th>activities_no</th>\n",
       "      <th>activities_yes</th>\n",
       "      <th>nursery_no</th>\n",
       "      <th>nursery_yes</th>\n",
       "      <th>higher_no</th>\n",
       "      <th>higher_yes</th>\n",
       "      <th>internet_no</th>\n",
       "      <th>internet_yes</th>\n",
       "      <th>romantic_no</th>\n",
       "      <th>romantic_yes</th>\n",
       "    </tr>\n",
       "  </thead>\n",
       "  <tbody>\n",
       "    <tr>\n",
       "      <th>age</th>\n",
       "      <td>1.000000</td>\n",
       "      <td>-0.163658</td>\n",
       "      <td>-0.163438</td>\n",
       "      <td>0.070641</td>\n",
       "      <td>-0.004140</td>\n",
       "      <td>0.243665</td>\n",
       "      <td>0.053940</td>\n",
       "      <td>0.016434</td>\n",
       "      <td>0.126964</td>\n",
       "      <td>0.131125</td>\n",
       "      <td>0.117276</td>\n",
       "      <td>-0.062187</td>\n",
       "      <td>0.175230</td>\n",
       "      <td>-0.064081</td>\n",
       "      <td>-0.143474</td>\n",
       "      <td>-0.161579</td>\n",
       "      <td>-0.377610</td>\n",
       "      <td>0.377610</td>\n",
       "      <td>0.028606</td>\n",
       "      <td>-0.028606</td>\n",
       "      <td>0.146722</td>\n",
       "      <td>-0.146722</td>\n",
       "      <td>-0.037847</td>\n",
       "      <td>0.037847</td>\n",
       "      <td>-0.029598</td>\n",
       "      <td>0.029598</td>\n",
       "      <td>0.088745</td>\n",
       "      <td>-0.082660</td>\n",
       "      <td>0.032488</td>\n",
       "      <td>-0.007732</td>\n",
       "      <td>-0.058256</td>\n",
       "      <td>0.082233</td>\n",
       "      <td>-0.109842</td>\n",
       "      <td>0.007682</td>\n",
       "      <td>0.042963</td>\n",
       "      <td>-0.069993</td>\n",
       "      <td>-0.003913</td>\n",
       "      <td>0.018283</td>\n",
       "      <td>0.027172</td>\n",
       "      <td>-0.031932</td>\n",
       "      <td>-0.112046</td>\n",
       "      <td>-0.133558</td>\n",
       "      <td>0.398396</td>\n",
       "      <td>0.251811</td>\n",
       "      <td>-0.251811</td>\n",
       "      <td>0.140609</td>\n",
       "      <td>-0.140609</td>\n",
       "      <td>0.035933</td>\n",
       "      <td>-0.035933</td>\n",
       "      <td>0.103063</td>\n",
       "      <td>-0.103063</td>\n",
       "      <td>0.086632</td>\n",
       "      <td>-0.086632</td>\n",
       "      <td>0.209081</td>\n",
       "      <td>-0.209081</td>\n",
       "      <td>0.112094</td>\n",
       "      <td>-0.112094</td>\n",
       "      <td>-0.164669</td>\n",
       "      <td>0.164669</td>\n",
       "    </tr>\n",
       "    <tr>\n",
       "      <th>Medu</th>\n",
       "      <td>-0.163658</td>\n",
       "      <td>1.000000</td>\n",
       "      <td>0.623455</td>\n",
       "      <td>-0.171639</td>\n",
       "      <td>0.064944</td>\n",
       "      <td>-0.236680</td>\n",
       "      <td>-0.003914</td>\n",
       "      <td>0.030891</td>\n",
       "      <td>0.064094</td>\n",
       "      <td>0.019834</td>\n",
       "      <td>-0.047123</td>\n",
       "      <td>-0.046878</td>\n",
       "      <td>0.100285</td>\n",
       "      <td>0.205341</td>\n",
       "      <td>0.215527</td>\n",
       "      <td>0.217147</td>\n",
       "      <td>0.133333</td>\n",
       "      <td>-0.133333</td>\n",
       "      <td>-0.078228</td>\n",
       "      <td>0.078228</td>\n",
       "      <td>-0.138804</td>\n",
       "      <td>0.138804</td>\n",
       "      <td>0.043068</td>\n",
       "      <td>-0.043068</td>\n",
       "      <td>0.123565</td>\n",
       "      <td>-0.123565</td>\n",
       "      <td>-0.397637</td>\n",
       "      <td>0.251973</td>\n",
       "      <td>-0.235176</td>\n",
       "      <td>0.051764</td>\n",
       "      <td>0.454911</td>\n",
       "      <td>-0.073794</td>\n",
       "      <td>0.083398</td>\n",
       "      <td>-0.109887</td>\n",
       "      <td>-0.031834</td>\n",
       "      <td>0.259836</td>\n",
       "      <td>-0.094435</td>\n",
       "      <td>-0.008708</td>\n",
       "      <td>0.008229</td>\n",
       "      <td>0.106487</td>\n",
       "      <td>-0.046609</td>\n",
       "      <td>0.112375</td>\n",
       "      <td>-0.118635</td>\n",
       "      <td>0.036029</td>\n",
       "      <td>-0.036029</td>\n",
       "      <td>-0.183727</td>\n",
       "      <td>0.183727</td>\n",
       "      <td>-0.159700</td>\n",
       "      <td>0.159700</td>\n",
       "      <td>-0.108277</td>\n",
       "      <td>0.108277</td>\n",
       "      <td>-0.193263</td>\n",
       "      <td>0.193263</td>\n",
       "      <td>-0.168845</td>\n",
       "      <td>0.168845</td>\n",
       "      <td>-0.201463</td>\n",
       "      <td>0.201463</td>\n",
       "      <td>-0.039681</td>\n",
       "      <td>0.039681</td>\n",
       "    </tr>\n",
       "    <tr>\n",
       "      <th>...</th>\n",
       "      <td>...</td>\n",
       "      <td>...</td>\n",
       "      <td>...</td>\n",
       "      <td>...</td>\n",
       "      <td>...</td>\n",
       "      <td>...</td>\n",
       "      <td>...</td>\n",
       "      <td>...</td>\n",
       "      <td>...</td>\n",
       "      <td>...</td>\n",
       "      <td>...</td>\n",
       "      <td>...</td>\n",
       "      <td>...</td>\n",
       "      <td>...</td>\n",
       "      <td>...</td>\n",
       "      <td>...</td>\n",
       "      <td>...</td>\n",
       "      <td>...</td>\n",
       "      <td>...</td>\n",
       "      <td>...</td>\n",
       "      <td>...</td>\n",
       "      <td>...</td>\n",
       "      <td>...</td>\n",
       "      <td>...</td>\n",
       "      <td>...</td>\n",
       "      <td>...</td>\n",
       "      <td>...</td>\n",
       "      <td>...</td>\n",
       "      <td>...</td>\n",
       "      <td>...</td>\n",
       "      <td>...</td>\n",
       "      <td>...</td>\n",
       "      <td>...</td>\n",
       "      <td>...</td>\n",
       "      <td>...</td>\n",
       "      <td>...</td>\n",
       "      <td>...</td>\n",
       "      <td>...</td>\n",
       "      <td>...</td>\n",
       "      <td>...</td>\n",
       "      <td>...</td>\n",
       "      <td>...</td>\n",
       "      <td>...</td>\n",
       "      <td>...</td>\n",
       "      <td>...</td>\n",
       "      <td>...</td>\n",
       "      <td>...</td>\n",
       "      <td>...</td>\n",
       "      <td>...</td>\n",
       "      <td>...</td>\n",
       "      <td>...</td>\n",
       "      <td>...</td>\n",
       "      <td>...</td>\n",
       "      <td>...</td>\n",
       "      <td>...</td>\n",
       "      <td>...</td>\n",
       "      <td>...</td>\n",
       "      <td>...</td>\n",
       "      <td>...</td>\n",
       "    </tr>\n",
       "    <tr>\n",
       "      <th>romantic_no</th>\n",
       "      <td>-0.164669</td>\n",
       "      <td>-0.039681</td>\n",
       "      <td>-0.015602</td>\n",
       "      <td>-0.021962</td>\n",
       "      <td>-0.053285</td>\n",
       "      <td>-0.093137</td>\n",
       "      <td>0.063816</td>\n",
       "      <td>0.011182</td>\n",
       "      <td>-0.007870</td>\n",
       "      <td>-0.015121</td>\n",
       "      <td>0.010141</td>\n",
       "      <td>-0.026342</td>\n",
       "      <td>-0.153384</td>\n",
       "      <td>0.037188</td>\n",
       "      <td>0.111774</td>\n",
       "      <td>0.129970</td>\n",
       "      <td>0.060700</td>\n",
       "      <td>-0.060700</td>\n",
       "      <td>-0.102023</td>\n",
       "      <td>0.102023</td>\n",
       "      <td>0.005257</td>\n",
       "      <td>-0.005257</td>\n",
       "      <td>0.034395</td>\n",
       "      <td>-0.034395</td>\n",
       "      <td>-0.040451</td>\n",
       "      <td>0.040451</td>\n",
       "      <td>-0.019326</td>\n",
       "      <td>-0.031343</td>\n",
       "      <td>-0.043476</td>\n",
       "      <td>0.041810</td>\n",
       "      <td>0.051288</td>\n",
       "      <td>-0.056706</td>\n",
       "      <td>0.000391</td>\n",
       "      <td>0.059505</td>\n",
       "      <td>-0.022762</td>\n",
       "      <td>-0.026933</td>\n",
       "      <td>0.049613</td>\n",
       "      <td>-0.030914</td>\n",
       "      <td>-0.074026</td>\n",
       "      <td>0.025374</td>\n",
       "      <td>0.039359</td>\n",
       "      <td>0.037525</td>\n",
       "      <td>-0.124045</td>\n",
       "      <td>-0.080716</td>\n",
       "      <td>0.080716</td>\n",
       "      <td>0.012440</td>\n",
       "      <td>-0.012440</td>\n",
       "      <td>0.005536</td>\n",
       "      <td>-0.005536</td>\n",
       "      <td>0.019651</td>\n",
       "      <td>-0.019651</td>\n",
       "      <td>0.027495</td>\n",
       "      <td>-0.027495</td>\n",
       "      <td>-0.105664</td>\n",
       "      <td>0.105664</td>\n",
       "      <td>0.087122</td>\n",
       "      <td>-0.087122</td>\n",
       "      <td>1.000000</td>\n",
       "      <td>-1.000000</td>\n",
       "    </tr>\n",
       "    <tr>\n",
       "      <th>romantic_yes</th>\n",
       "      <td>0.164669</td>\n",
       "      <td>0.039681</td>\n",
       "      <td>0.015602</td>\n",
       "      <td>0.021962</td>\n",
       "      <td>0.053285</td>\n",
       "      <td>0.093137</td>\n",
       "      <td>-0.063816</td>\n",
       "      <td>-0.011182</td>\n",
       "      <td>0.007870</td>\n",
       "      <td>0.015121</td>\n",
       "      <td>-0.010141</td>\n",
       "      <td>0.026342</td>\n",
       "      <td>0.153384</td>\n",
       "      <td>-0.037188</td>\n",
       "      <td>-0.111774</td>\n",
       "      <td>-0.129970</td>\n",
       "      <td>-0.060700</td>\n",
       "      <td>0.060700</td>\n",
       "      <td>0.102023</td>\n",
       "      <td>-0.102023</td>\n",
       "      <td>-0.005257</td>\n",
       "      <td>0.005257</td>\n",
       "      <td>-0.034395</td>\n",
       "      <td>0.034395</td>\n",
       "      <td>0.040451</td>\n",
       "      <td>-0.040451</td>\n",
       "      <td>0.019326</td>\n",
       "      <td>0.031343</td>\n",
       "      <td>0.043476</td>\n",
       "      <td>-0.041810</td>\n",
       "      <td>-0.051288</td>\n",
       "      <td>0.056706</td>\n",
       "      <td>-0.000391</td>\n",
       "      <td>-0.059505</td>\n",
       "      <td>0.022762</td>\n",
       "      <td>0.026933</td>\n",
       "      <td>-0.049613</td>\n",
       "      <td>0.030914</td>\n",
       "      <td>0.074026</td>\n",
       "      <td>-0.025374</td>\n",
       "      <td>-0.039359</td>\n",
       "      <td>-0.037525</td>\n",
       "      <td>0.124045</td>\n",
       "      <td>0.080716</td>\n",
       "      <td>-0.080716</td>\n",
       "      <td>-0.012440</td>\n",
       "      <td>0.012440</td>\n",
       "      <td>-0.005536</td>\n",
       "      <td>0.005536</td>\n",
       "      <td>-0.019651</td>\n",
       "      <td>0.019651</td>\n",
       "      <td>-0.027495</td>\n",
       "      <td>0.027495</td>\n",
       "      <td>0.105664</td>\n",
       "      <td>-0.105664</td>\n",
       "      <td>-0.087122</td>\n",
       "      <td>0.087122</td>\n",
       "      <td>-1.000000</td>\n",
       "      <td>1.000000</td>\n",
       "    </tr>\n",
       "  </tbody>\n",
       "</table>\n",
       "<p>59 rows × 59 columns</p>\n",
       "</div>"
      ],
      "text/plain": [
       "                   age      Medu      Fedu  traveltime  studytime  failures  \\\n",
       "age           1.000000 -0.163658 -0.163438    0.070641  -0.004140  0.243665   \n",
       "Medu         -0.163658  1.000000  0.623455   -0.171639   0.064944 -0.236680   \n",
       "...                ...       ...       ...         ...        ...       ...   \n",
       "romantic_no  -0.164669 -0.039681 -0.015602   -0.021962  -0.053285 -0.093137   \n",
       "romantic_yes  0.164669  0.039681  0.015602    0.021962   0.053285  0.093137   \n",
       "\n",
       "                famrel  freetime     goout      Dalc      Walc    health  \\\n",
       "age           0.053940  0.016434  0.126964  0.131125  0.117276 -0.062187   \n",
       "Medu         -0.003914  0.030891  0.064094  0.019834 -0.047123 -0.046878   \n",
       "...                ...       ...       ...       ...       ...       ...   \n",
       "romantic_no   0.063816  0.011182 -0.007870 -0.015121  0.010141 -0.026342   \n",
       "romantic_yes -0.063816 -0.011182  0.007870  0.015121 -0.010141  0.026342   \n",
       "\n",
       "              absences        G1        G2        G3  school_GP  school_MS  \\\n",
       "age           0.175230 -0.064081 -0.143474 -0.161579  -0.377610   0.377610   \n",
       "Medu          0.100285  0.205341  0.215527  0.217147   0.133333  -0.133333   \n",
       "...                ...       ...       ...       ...        ...        ...   \n",
       "romantic_no  -0.153384  0.037188  0.111774  0.129970   0.060700  -0.060700   \n",
       "romantic_yes  0.153384 -0.037188 -0.111774 -0.129970  -0.060700   0.060700   \n",
       "\n",
       "                 sex_F     sex_M  address_R  address_U  famsize_GT3  \\\n",
       "age           0.028606 -0.028606   0.146722  -0.146722    -0.037847   \n",
       "Medu         -0.078228  0.078228  -0.138804   0.138804     0.043068   \n",
       "...                ...       ...        ...        ...          ...   \n",
       "romantic_no  -0.102023  0.102023   0.005257  -0.005257     0.034395   \n",
       "romantic_yes  0.102023 -0.102023  -0.005257   0.005257    -0.034395   \n",
       "\n",
       "              famsize_LE3  Pstatus_A  Pstatus_T  Mjob_at_home  Mjob_health  \\\n",
       "age              0.037847  -0.029598   0.029598      0.088745    -0.082660   \n",
       "Medu            -0.043068   0.123565  -0.123565     -0.397637     0.251973   \n",
       "...                   ...        ...        ...           ...          ...   \n",
       "romantic_no     -0.034395  -0.040451   0.040451     -0.019326    -0.031343   \n",
       "romantic_yes     0.034395   0.040451  -0.040451      0.019326     0.031343   \n",
       "\n",
       "              Mjob_other  Mjob_services  Mjob_teacher  Fjob_at_home  \\\n",
       "age             0.032488      -0.007732     -0.058256      0.082233   \n",
       "Medu           -0.235176       0.051764      0.454911     -0.073794   \n",
       "...                  ...            ...           ...           ...   \n",
       "romantic_no    -0.043476       0.041810      0.051288     -0.056706   \n",
       "romantic_yes    0.043476      -0.041810     -0.051288      0.056706   \n",
       "\n",
       "              Fjob_health  Fjob_other  Fjob_services  Fjob_teacher  \\\n",
       "age             -0.109842    0.007682       0.042963     -0.069993   \n",
       "Medu             0.083398   -0.109887      -0.031834      0.259836   \n",
       "...                   ...         ...            ...           ...   \n",
       "romantic_no      0.000391    0.059505      -0.022762     -0.026933   \n",
       "romantic_yes    -0.000391   -0.059505       0.022762      0.026933   \n",
       "\n",
       "              reason_course  reason_home  reason_other  reason_reputation  \\\n",
       "age               -0.003913     0.018283      0.027172          -0.031932   \n",
       "Medu              -0.094435    -0.008708      0.008229           0.106487   \n",
       "...                     ...          ...           ...                ...   \n",
       "romantic_no        0.049613    -0.030914     -0.074026           0.025374   \n",
       "romantic_yes      -0.049613     0.030914      0.074026          -0.025374   \n",
       "\n",
       "              guardian_father  guardian_mother  guardian_other  schoolsup_no  \\\n",
       "age                 -0.112046        -0.133558        0.398396      0.251811   \n",
       "Medu                -0.046609         0.112375       -0.118635      0.036029   \n",
       "...                       ...              ...             ...           ...   \n",
       "romantic_no          0.039359         0.037525       -0.124045     -0.080716   \n",
       "romantic_yes        -0.039359        -0.037525        0.124045      0.080716   \n",
       "\n",
       "              schoolsup_yes  famsup_no  famsup_yes   paid_no  paid_yes  \\\n",
       "age               -0.251811   0.140609   -0.140609  0.035933 -0.035933   \n",
       "Medu              -0.036029  -0.183727    0.183727 -0.159700  0.159700   \n",
       "...                     ...        ...         ...       ...       ...   \n",
       "romantic_no        0.080716   0.012440   -0.012440  0.005536 -0.005536   \n",
       "romantic_yes      -0.080716  -0.012440    0.012440 -0.005536  0.005536   \n",
       "\n",
       "              activities_no  activities_yes  nursery_no  nursery_yes  \\\n",
       "age                0.103063       -0.103063    0.086632    -0.086632   \n",
       "Medu              -0.108277        0.108277   -0.193263     0.193263   \n",
       "...                     ...             ...         ...          ...   \n",
       "romantic_no        0.019651       -0.019651    0.027495    -0.027495   \n",
       "romantic_yes      -0.019651        0.019651   -0.027495     0.027495   \n",
       "\n",
       "              higher_no  higher_yes  internet_no  internet_yes  romantic_no  \\\n",
       "age            0.209081   -0.209081     0.112094     -0.112094    -0.164669   \n",
       "Medu          -0.168845    0.168845    -0.201463      0.201463    -0.039681   \n",
       "...                 ...         ...          ...           ...          ...   \n",
       "romantic_no   -0.105664    0.105664     0.087122     -0.087122     1.000000   \n",
       "romantic_yes   0.105664   -0.105664    -0.087122      0.087122    -1.000000   \n",
       "\n",
       "              romantic_yes  \n",
       "age               0.164669  \n",
       "Medu              0.039681  \n",
       "...                    ...  \n",
       "romantic_no      -1.000000  \n",
       "romantic_yes      1.000000  \n",
       "\n",
       "[59 rows x 59 columns]"
      ]
     },
     "execution_count": 12,
     "metadata": {},
     "output_type": "execute_result"
    }
   ],
   "source": [
    "#Create and train a linear regression model that estimates the number of absences for a given student\n",
    "dummy.corr()"
   ]
  },
  {
   "cell_type": "code",
   "execution_count": 13,
   "metadata": {},
   "outputs": [
    {
     "data": {
      "text/plain": [
       "Index(['age', 'Medu', 'Fedu', 'traveltime', 'studytime', 'failures', 'famrel',\n",
       "       'freetime', 'goout', 'Dalc', 'Walc', 'health', 'absences', 'G1', 'G2',\n",
       "       'G3', 'school_GP', 'school_MS', 'sex_F', 'sex_M', 'address_R',\n",
       "       'address_U', 'famsize_GT3', 'famsize_LE3', 'Pstatus_A', 'Pstatus_T',\n",
       "       'Mjob_at_home', 'Mjob_health', 'Mjob_other', 'Mjob_services',\n",
       "       'Mjob_teacher', 'Fjob_at_home', 'Fjob_health', 'Fjob_other',\n",
       "       'Fjob_services', 'Fjob_teacher', 'reason_course', 'reason_home',\n",
       "       'reason_other', 'reason_reputation', 'guardian_father',\n",
       "       'guardian_mother', 'guardian_other', 'schoolsup_no', 'schoolsup_yes',\n",
       "       'famsup_no', 'famsup_yes', 'paid_no', 'paid_yes', 'activities_no',\n",
       "       'activities_yes', 'nursery_no', 'nursery_yes', 'higher_no',\n",
       "       'higher_yes', 'internet_no', 'internet_yes', 'romantic_no',\n",
       "       'romantic_yes'],\n",
       "      dtype='object')"
      ]
     },
     "execution_count": 13,
     "metadata": {},
     "output_type": "execute_result"
    }
   ],
   "source": [
    "dummy.columns"
   ]
  },
  {
   "cell_type": "code",
   "execution_count": 14,
   "metadata": {},
   "outputs": [],
   "source": [
    "X = dummy[['age', 'Medu', 'Fedu', 'traveltime', 'studytime', 'failures', 'famrel',\n",
    "       'freetime', 'goout', 'Dalc', 'Walc', 'health', 'G1', 'G2',\n",
    "       'G3', 'school_GP', 'school_MS', 'sex_F', 'sex_M', 'address_R',\n",
    "       'address_U', 'famsize_GT3', 'famsize_LE3', 'Pstatus_A', 'Pstatus_T',\n",
    "       'Mjob_at_home', 'Mjob_health', 'Mjob_other', 'Mjob_services',\n",
    "       'Mjob_teacher', 'Fjob_at_home', 'Fjob_health', 'Fjob_other',\n",
    "       'Fjob_services', 'Fjob_teacher', 'reason_course', 'reason_home',\n",
    "       'reason_other', 'reason_reputation', 'guardian_father',\n",
    "       'guardian_mother', 'guardian_other', 'schoolsup_no', 'schoolsup_yes',\n",
    "       'famsup_no', 'famsup_yes', 'paid_no', 'paid_yes', 'activities_no',\n",
    "       'activities_yes', 'nursery_no', 'nursery_yes', 'higher_no',\n",
    "       'higher_yes', 'internet_no', 'internet_yes', 'romantic_no',\n",
    "       'romantic_yes']]\n",
    "\n",
    "y = dummy[['absences']]"
   ]
  },
  {
   "cell_type": "code",
   "execution_count": 15,
   "metadata": {},
   "outputs": [],
   "source": [
    "X_train, X_test, y_train, y_test = train_test_split(X, y, test_size=0.20, random_state=1)"
   ]
  },
  {
   "cell_type": "code",
   "execution_count": 16,
   "metadata": {},
   "outputs": [
    {
     "data": {
      "text/plain": [
       "LinearRegression(copy_X=True, fit_intercept=True, n_jobs=1, normalize=False)"
      ]
     },
     "execution_count": 16,
     "metadata": {},
     "output_type": "execute_result"
    }
   ],
   "source": [
    "regression_model = LinearRegression()\n",
    "regression_model.fit(X_train, y_train)"
   ]
  },
  {
   "cell_type": "code",
   "execution_count": 17,
   "metadata": {},
   "outputs": [
    {
     "name": "stdout",
     "output_type": "stream",
     "text": [
      "The intercept for our model is 2454875716307.6396\n"
     ]
    }
   ],
   "source": [
    "intercept = regression_model.intercept_[0]\n",
    "\n",
    "print(\"The intercept for our model is {}\".format(intercept))"
   ]
  },
  {
   "cell_type": "code",
   "execution_count": 18,
   "metadata": {},
   "outputs": [
    {
     "data": {
      "text/plain": [
       "0.07205734569303412"
      ]
     },
     "execution_count": 18,
     "metadata": {},
     "output_type": "execute_result"
    }
   ],
   "source": [
    "regression_model.score(X_test, y_test)"
   ]
  },
  {
   "cell_type": "code",
   "execution_count": 19,
   "metadata": {},
   "outputs": [
    {
     "data": {
      "text/plain": [
       "<matplotlib.collections.PathCollection at 0x252cfb45a90>"
      ]
     },
     "execution_count": 19,
     "metadata": {},
     "output_type": "execute_result"
    },
    {
     "data": {
      "image/png": "[encoded data removed]",
      "text/plain": [
       "<Figure size 432x288 with 1 Axes>"
      ]
     },
     "metadata": {
      "needs_background": "light"
     },
     "output_type": "display_data"
    }
   ],
   "source": [
    "predictions = regression_model.predict(X_test)\n",
    "plt.scatter(y_test,predictions)"
   ]
  },
  {
   "cell_type": "code",
   "execution_count": 20,
   "metadata": {},
   "outputs": [
    {
     "name": "stdout",
     "output_type": "stream",
     "text": [
      "[[-2.44042969]\n",
      " [ 4.19580078]\n",
      " [15.04833984]\n",
      " [ 9.36181641]\n",
      " [ 3.38427734]]\n"
     ]
    }
   ],
   "source": [
    "print(predictions[0:5])"
   ]
  },
  {
   "cell_type": "markdown",
   "metadata": {},
   "source": [
    "# Evaluate Model's accuracy score and RSME score"
   ]
  },
  {
   "cell_type": "code",
   "execution_count": 21,
   "metadata": {},
   "outputs": [
    {
     "data": {
      "text/plain": [
       "44.44073639338529"
      ]
     },
     "execution_count": 21,
     "metadata": {},
     "output_type": "execute_result"
    }
   ],
   "source": [
    "y_predict = regression_model.predict(X_test)\n",
    "\n",
    "regression_model_mse = mean_squared_error(y_predict, y_test)\n",
    "\n",
    "regression_model_mse"
   ]
  },
  {
   "cell_type": "code",
   "execution_count": 22,
   "metadata": {},
   "outputs": [
    {
     "name": "stdout",
     "output_type": "stream",
     "text": [
      "RSME:\n"
     ]
    },
    {
     "data": {
      "text/plain": [
       "6.666388557036358"
      ]
     },
     "execution_count": 22,
     "metadata": {},
     "output_type": "execute_result"
    }
   ],
   "source": [
    "print(\"RSME:\")\n",
    "math.sqrt(regression_model_mse)"
   ]
  },
  {
   "cell_type": "code",
   "execution_count": 23,
   "metadata": {},
   "outputs": [
    {
     "name": "stdout",
     "output_type": "stream",
     "text": [
      "Accuracy Score: 0.07205734569303412\n"
     ]
    }
   ],
   "source": [
    "confidence = regression_model.score(X_test, y_test)\n",
    "print(\"Accuracy Score:\", confidence)"
   ]
  },
  {
   "cell_type": "markdown",
   "metadata": {},
   "source": [
    "Evaluate your model using the accuracy score and RSME score. Write a paragraph (either as comments or as markdown) explaining what those scores mean in the context of your problem \n",
    "\n",
    "Answer: The RSME is 6.666388557036358, which indicates how close the observed data values are to the model’s predicted values. The lower the RSME is the better fit. In this case, the RSME is high indicating that model's predicted values are not close to the observed data values. Accuracy score is 0.07205734569303412 or ~7% accuracy rate. This indicates that the data collected is bad or that adjustments need to be made to the datasets to normalize them (i.e. remove outliers).\n"
   ]
  },
  {
   "cell_type": "markdown",
   "metadata": {},
   "source": [
    "# Play with Parameters"
   ]
  },
  {
   "cell_type": "markdown",
   "metadata": {},
   "source": [
    "Play with parameters - will adding or removing parameters improve your model’s accuracy? Build models with three sets of parameters to compare the results. \n",
    "\n",
    "Inital Model\n",
    "- RSME is 6.666388557036358\n",
    "- Accuracy score is 0.07205734569303412 or ~7%\n",
    "\n",
    "\n",
    "1) Remove 'Dalc', 'Walc'\n",
    "- Accuracy Score: 0.15847466583944203\n",
    "- RSME1: 6.348390772679846\n",
    "- Removing these two parameters slightly increase accuracy and best fit compared to the inital model and two other varied parameter models. \n",
    "\n",
    "2) Remove 'famrel', 'address_R', 'goout', 'romantic_no', 'romantic_yes', 'address_U', 'famsize_GT3', 'famsize_LE3', 'Pstatus_A', 'Pstatus_T', 'Mjob_at_home', 'Mjob_health', 'Mjob_other', 'Mjob_services', 'Mjob_teacher', 'Fjob_at_home', 'Fjob_health', 'Fjob_other', 'guardian_father','guardian_mother', 'guardian_other','Fjob_services', 'Dalc', 'Walc'\n",
    "- Accuracy Score: 0.11844654143004818\n",
    "- RSME2: 6.497621079208492\n",
    "- Removing these parameters slightly increase accuracy and best fit compared to the inital model and the third varied parameter model, but not the first varied parameter model. \n",
    "           \n",
    "3) Remove 'Medu', 'Fedu', 'traveltime', 'studytime', 'failures', 'G1', 'G2','G3', 'school_GP', 'school_MS', 'reason_other', 'reason_reputation', 'schoolsup_no', 'schoolsup_yes', 'famsup_no', 'famsup_yes', 'paid_no', 'paid_yes', 'activities_no', 'activities_yes', 'nursery_no', 'nursery_yes', 'higher_no', 'higher_yes', 'Fjob_teacher', 'reason_course', 'reason_home', 'reason_other', 'reason_reputation'\n",
    "- Accuracy Score: -0.0541887906720524\n",
    "- RSME3: 7.105411773117627\n",
    "- Removing these parameters greatly decreased accuracy and best fit compared to the inital model and two other varied parameter models. "
   ]
  },
  {
   "cell_type": "markdown",
   "metadata": {},
   "source": [
    "# 1) Remove 'Dalc', 'Walc'"
   ]
  },
  {
   "cell_type": "code",
   "execution_count": 24,
   "metadata": {},
   "outputs": [],
   "source": [
    "df1 = pd.read_csv('student-mat.csv', sep=';')\n",
    "\n",
    "dummy1 = pd.get_dummies(df1[list(df1)])"
   ]
  },
  {
   "cell_type": "code",
   "execution_count": 25,
   "metadata": {},
   "outputs": [
    {
     "data": {
      "text/html": [
       "<div>\n",
       "<style scoped>\n",
       "    .dataframe tbody tr th:only-of-type {\n",
       "        vertical-align: middle;\n",
       "    }\n",
       "\n",
       "    .dataframe tbody tr th {\n",
       "        vertical-align: top;\n",
       "    }\n",
       "\n",
       "    .dataframe thead th {\n",
       "        text-align: right;\n",
       "    }\n",
       "</style>\n",
       "<table border=\"1\" class=\"dataframe\">\n",
       "  <thead>\n",
       "    <tr style=\"text-align: right;\">\n",
       "      <th></th>\n",
       "      <th>age</th>\n",
       "      <th>Medu</th>\n",
       "      <th>Fedu</th>\n",
       "      <th>traveltime</th>\n",
       "      <th>studytime</th>\n",
       "      <th>failures</th>\n",
       "      <th>famrel</th>\n",
       "      <th>freetime</th>\n",
       "      <th>goout</th>\n",
       "      <th>Dalc</th>\n",
       "      <th>Walc</th>\n",
       "      <th>health</th>\n",
       "      <th>absences</th>\n",
       "      <th>G1</th>\n",
       "      <th>G2</th>\n",
       "      <th>G3</th>\n",
       "      <th>school_GP</th>\n",
       "      <th>school_MS</th>\n",
       "      <th>sex_F</th>\n",
       "      <th>sex_M</th>\n",
       "      <th>address_R</th>\n",
       "      <th>address_U</th>\n",
       "      <th>famsize_GT3</th>\n",
       "      <th>famsize_LE3</th>\n",
       "      <th>Pstatus_A</th>\n",
       "      <th>Pstatus_T</th>\n",
       "      <th>Mjob_at_home</th>\n",
       "      <th>Mjob_health</th>\n",
       "      <th>Mjob_other</th>\n",
       "      <th>Mjob_services</th>\n",
       "      <th>Mjob_teacher</th>\n",
       "      <th>Fjob_at_home</th>\n",
       "      <th>Fjob_health</th>\n",
       "      <th>Fjob_other</th>\n",
       "      <th>Fjob_services</th>\n",
       "      <th>Fjob_teacher</th>\n",
       "      <th>reason_course</th>\n",
       "      <th>reason_home</th>\n",
       "      <th>reason_other</th>\n",
       "      <th>reason_reputation</th>\n",
       "      <th>guardian_father</th>\n",
       "      <th>guardian_mother</th>\n",
       "      <th>guardian_other</th>\n",
       "      <th>schoolsup_no</th>\n",
       "      <th>schoolsup_yes</th>\n",
       "      <th>famsup_no</th>\n",
       "      <th>famsup_yes</th>\n",
       "      <th>paid_no</th>\n",
       "      <th>paid_yes</th>\n",
       "      <th>activities_no</th>\n",
       "      <th>activities_yes</th>\n",
       "      <th>nursery_no</th>\n",
       "      <th>nursery_yes</th>\n",
       "      <th>higher_no</th>\n",
       "      <th>higher_yes</th>\n",
       "      <th>internet_no</th>\n",
       "      <th>internet_yes</th>\n",
       "      <th>romantic_no</th>\n",
       "      <th>romantic_yes</th>\n",
       "    </tr>\n",
       "  </thead>\n",
       "  <tbody>\n",
       "    <tr>\n",
       "      <th>age</th>\n",
       "      <td>1.000000</td>\n",
       "      <td>-0.163658</td>\n",
       "      <td>-0.163438</td>\n",
       "      <td>0.070641</td>\n",
       "      <td>-0.004140</td>\n",
       "      <td>0.243665</td>\n",
       "      <td>0.053940</td>\n",
       "      <td>0.016434</td>\n",
       "      <td>0.126964</td>\n",
       "      <td>0.131125</td>\n",
       "      <td>0.117276</td>\n",
       "      <td>-0.062187</td>\n",
       "      <td>0.175230</td>\n",
       "      <td>-0.064081</td>\n",
       "      <td>-0.143474</td>\n",
       "      <td>-0.161579</td>\n",
       "      <td>-0.377610</td>\n",
       "      <td>0.377610</td>\n",
       "      <td>0.028606</td>\n",
       "      <td>-0.028606</td>\n",
       "      <td>0.146722</td>\n",
       "      <td>-0.146722</td>\n",
       "      <td>-0.037847</td>\n",
       "      <td>0.037847</td>\n",
       "      <td>-0.029598</td>\n",
       "      <td>0.029598</td>\n",
       "      <td>0.088745</td>\n",
       "      <td>-0.082660</td>\n",
       "      <td>0.032488</td>\n",
       "      <td>-0.007732</td>\n",
       "      <td>-0.058256</td>\n",
       "      <td>0.082233</td>\n",
       "      <td>-0.109842</td>\n",
       "      <td>0.007682</td>\n",
       "      <td>0.042963</td>\n",
       "      <td>-0.069993</td>\n",
       "      <td>-0.003913</td>\n",
       "      <td>0.018283</td>\n",
       "      <td>0.027172</td>\n",
       "      <td>-0.031932</td>\n",
       "      <td>-0.112046</td>\n",
       "      <td>-0.133558</td>\n",
       "      <td>0.398396</td>\n",
       "      <td>0.251811</td>\n",
       "      <td>-0.251811</td>\n",
       "      <td>0.140609</td>\n",
       "      <td>-0.140609</td>\n",
       "      <td>0.035933</td>\n",
       "      <td>-0.035933</td>\n",
       "      <td>0.103063</td>\n",
       "      <td>-0.103063</td>\n",
       "      <td>0.086632</td>\n",
       "      <td>-0.086632</td>\n",
       "      <td>0.209081</td>\n",
       "      <td>-0.209081</td>\n",
       "      <td>0.112094</td>\n",
       "      <td>-0.112094</td>\n",
       "      <td>-0.164669</td>\n",
       "      <td>0.164669</td>\n",
       "    </tr>\n",
       "    <tr>\n",
       "      <th>Medu</th>\n",
       "      <td>-0.163658</td>\n",
       "      <td>1.000000</td>\n",
       "      <td>0.623455</td>\n",
       "      <td>-0.171639</td>\n",
       "      <td>0.064944</td>\n",
       "      <td>-0.236680</td>\n",
       "      <td>-0.003914</td>\n",
       "      <td>0.030891</td>\n",
       "      <td>0.064094</td>\n",
       "      <td>0.019834</td>\n",
       "      <td>-0.047123</td>\n",
       "      <td>-0.046878</td>\n",
       "      <td>0.100285</td>\n",
       "      <td>0.205341</td>\n",
       "      <td>0.215527</td>\n",
       "      <td>0.217147</td>\n",
       "      <td>0.133333</td>\n",
       "      <td>-0.133333</td>\n",
       "      <td>-0.078228</td>\n",
       "      <td>0.078228</td>\n",
       "      <td>-0.138804</td>\n",
       "      <td>0.138804</td>\n",
       "      <td>0.043068</td>\n",
       "      <td>-0.043068</td>\n",
       "      <td>0.123565</td>\n",
       "      <td>-0.123565</td>\n",
       "      <td>-0.397637</td>\n",
       "      <td>0.251973</td>\n",
       "      <td>-0.235176</td>\n",
       "      <td>0.051764</td>\n",
       "      <td>0.454911</td>\n",
       "      <td>-0.073794</td>\n",
       "      <td>0.083398</td>\n",
       "      <td>-0.109887</td>\n",
       "      <td>-0.031834</td>\n",
       "      <td>0.259836</td>\n",
       "      <td>-0.094435</td>\n",
       "      <td>-0.008708</td>\n",
       "      <td>0.008229</td>\n",
       "      <td>0.106487</td>\n",
       "      <td>-0.046609</td>\n",
       "      <td>0.112375</td>\n",
       "      <td>-0.118635</td>\n",
       "      <td>0.036029</td>\n",
       "      <td>-0.036029</td>\n",
       "      <td>-0.183727</td>\n",
       "      <td>0.183727</td>\n",
       "      <td>-0.159700</td>\n",
       "      <td>0.159700</td>\n",
       "      <td>-0.108277</td>\n",
       "      <td>0.108277</td>\n",
       "      <td>-0.193263</td>\n",
       "      <td>0.193263</td>\n",
       "      <td>-0.168845</td>\n",
       "      <td>0.168845</td>\n",
       "      <td>-0.201463</td>\n",
       "      <td>0.201463</td>\n",
       "      <td>-0.039681</td>\n",
       "      <td>0.039681</td>\n",
       "    </tr>\n",
       "    <tr>\n",
       "      <th>...</th>\n",
       "      <td>...</td>\n",
       "      <td>...</td>\n",
       "      <td>...</td>\n",
       "      <td>...</td>\n",
       "      <td>...</td>\n",
       "      <td>...</td>\n",
       "      <td>...</td>\n",
       "      <td>...</td>\n",
       "      <td>...</td>\n",
       "      <td>...</td>\n",
       "      <td>...</td>\n",
       "      <td>...</td>\n",
       "      <td>...</td>\n",
       "      <td>...</td>\n",
       "      <td>...</td>\n",
       "      <td>...</td>\n",
       "      <td>...</td>\n",
       "      <td>...</td>\n",
       "      <td>...</td>\n",
       "      <td>...</td>\n",
       "      <td>...</td>\n",
       "      <td>...</td>\n",
       "      <td>...</td>\n",
       "      <td>...</td>\n",
       "      <td>...</td>\n",
       "      <td>...</td>\n",
       "      <td>...</td>\n",
       "      <td>...</td>\n",
       "      <td>...</td>\n",
       "      <td>...</td>\n",
       "      <td>...</td>\n",
       "      <td>...</td>\n",
       "      <td>...</td>\n",
       "      <td>...</td>\n",
       "      <td>...</td>\n",
       "      <td>...</td>\n",
       "      <td>...</td>\n",
       "      <td>...</td>\n",
       "      <td>...</td>\n",
       "      <td>...</td>\n",
       "      <td>...</td>\n",
       "      <td>...</td>\n",
       "      <td>...</td>\n",
       "      <td>...</td>\n",
       "      <td>...</td>\n",
       "      <td>...</td>\n",
       "      <td>...</td>\n",
       "      <td>...</td>\n",
       "      <td>...</td>\n",
       "      <td>...</td>\n",
       "      <td>...</td>\n",
       "      <td>...</td>\n",
       "      <td>...</td>\n",
       "      <td>...</td>\n",
       "      <td>...</td>\n",
       "      <td>...</td>\n",
       "      <td>...</td>\n",
       "      <td>...</td>\n",
       "      <td>...</td>\n",
       "    </tr>\n",
       "    <tr>\n",
       "      <th>romantic_no</th>\n",
       "      <td>-0.164669</td>\n",
       "      <td>-0.039681</td>\n",
       "      <td>-0.015602</td>\n",
       "      <td>-0.021962</td>\n",
       "      <td>-0.053285</td>\n",
       "      <td>-0.093137</td>\n",
       "      <td>0.063816</td>\n",
       "      <td>0.011182</td>\n",
       "      <td>-0.007870</td>\n",
       "      <td>-0.015121</td>\n",
       "      <td>0.010141</td>\n",
       "      <td>-0.026342</td>\n",
       "      <td>-0.153384</td>\n",
       "      <td>0.037188</td>\n",
       "      <td>0.111774</td>\n",
       "      <td>0.129970</td>\n",
       "      <td>0.060700</td>\n",
       "      <td>-0.060700</td>\n",
       "      <td>-0.102023</td>\n",
       "      <td>0.102023</td>\n",
       "      <td>0.005257</td>\n",
       "      <td>-0.005257</td>\n",
       "      <td>0.034395</td>\n",
       "      <td>-0.034395</td>\n",
       "      <td>-0.040451</td>\n",
       "      <td>0.040451</td>\n",
       "      <td>-0.019326</td>\n",
       "      <td>-0.031343</td>\n",
       "      <td>-0.043476</td>\n",
       "      <td>0.041810</td>\n",
       "      <td>0.051288</td>\n",
       "      <td>-0.056706</td>\n",
       "      <td>0.000391</td>\n",
       "      <td>0.059505</td>\n",
       "      <td>-0.022762</td>\n",
       "      <td>-0.026933</td>\n",
       "      <td>0.049613</td>\n",
       "      <td>-0.030914</td>\n",
       "      <td>-0.074026</td>\n",
       "      <td>0.025374</td>\n",
       "      <td>0.039359</td>\n",
       "      <td>0.037525</td>\n",
       "      <td>-0.124045</td>\n",
       "      <td>-0.080716</td>\n",
       "      <td>0.080716</td>\n",
       "      <td>0.012440</td>\n",
       "      <td>-0.012440</td>\n",
       "      <td>0.005536</td>\n",
       "      <td>-0.005536</td>\n",
       "      <td>0.019651</td>\n",
       "      <td>-0.019651</td>\n",
       "      <td>0.027495</td>\n",
       "      <td>-0.027495</td>\n",
       "      <td>-0.105664</td>\n",
       "      <td>0.105664</td>\n",
       "      <td>0.087122</td>\n",
       "      <td>-0.087122</td>\n",
       "      <td>1.000000</td>\n",
       "      <td>-1.000000</td>\n",
       "    </tr>\n",
       "    <tr>\n",
       "      <th>romantic_yes</th>\n",
       "      <td>0.164669</td>\n",
       "      <td>0.039681</td>\n",
       "      <td>0.015602</td>\n",
       "      <td>0.021962</td>\n",
       "      <td>0.053285</td>\n",
       "      <td>0.093137</td>\n",
       "      <td>-0.063816</td>\n",
       "      <td>-0.011182</td>\n",
       "      <td>0.007870</td>\n",
       "      <td>0.015121</td>\n",
       "      <td>-0.010141</td>\n",
       "      <td>0.026342</td>\n",
       "      <td>0.153384</td>\n",
       "      <td>-0.037188</td>\n",
       "      <td>-0.111774</td>\n",
       "      <td>-0.129970</td>\n",
       "      <td>-0.060700</td>\n",
       "      <td>0.060700</td>\n",
       "      <td>0.102023</td>\n",
       "      <td>-0.102023</td>\n",
       "      <td>-0.005257</td>\n",
       "      <td>0.005257</td>\n",
       "      <td>-0.034395</td>\n",
       "      <td>0.034395</td>\n",
       "      <td>0.040451</td>\n",
       "      <td>-0.040451</td>\n",
       "      <td>0.019326</td>\n",
       "      <td>0.031343</td>\n",
       "      <td>0.043476</td>\n",
       "      <td>-0.041810</td>\n",
       "      <td>-0.051288</td>\n",
       "      <td>0.056706</td>\n",
       "      <td>-0.000391</td>\n",
       "      <td>-0.059505</td>\n",
       "      <td>0.022762</td>\n",
       "      <td>0.026933</td>\n",
       "      <td>-0.049613</td>\n",
       "      <td>0.030914</td>\n",
       "      <td>0.074026</td>\n",
       "      <td>-0.025374</td>\n",
       "      <td>-0.039359</td>\n",
       "      <td>-0.037525</td>\n",
       "      <td>0.124045</td>\n",
       "      <td>0.080716</td>\n",
       "      <td>-0.080716</td>\n",
       "      <td>-0.012440</td>\n",
       "      <td>0.012440</td>\n",
       "      <td>-0.005536</td>\n",
       "      <td>0.005536</td>\n",
       "      <td>-0.019651</td>\n",
       "      <td>0.019651</td>\n",
       "      <td>-0.027495</td>\n",
       "      <td>0.027495</td>\n",
       "      <td>0.105664</td>\n",
       "      <td>-0.105664</td>\n",
       "      <td>-0.087122</td>\n",
       "      <td>0.087122</td>\n",
       "      <td>-1.000000</td>\n",
       "      <td>1.000000</td>\n",
       "    </tr>\n",
       "  </tbody>\n",
       "</table>\n",
       "<p>59 rows × 59 columns</p>\n",
       "</div>"
      ],
      "text/plain": [
       "                   age      Medu      Fedu  traveltime  studytime  failures  \\\n",
       "age           1.000000 -0.163658 -0.163438    0.070641  -0.004140  0.243665   \n",
       "Medu         -0.163658  1.000000  0.623455   -0.171639   0.064944 -0.236680   \n",
       "...                ...       ...       ...         ...        ...       ...   \n",
       "romantic_no  -0.164669 -0.039681 -0.015602   -0.021962  -0.053285 -0.093137   \n",
       "romantic_yes  0.164669  0.039681  0.015602    0.021962   0.053285  0.093137   \n",
       "\n",
       "                famrel  freetime     goout      Dalc      Walc    health  \\\n",
       "age           0.053940  0.016434  0.126964  0.131125  0.117276 -0.062187   \n",
       "Medu         -0.003914  0.030891  0.064094  0.019834 -0.047123 -0.046878   \n",
       "...                ...       ...       ...       ...       ...       ...   \n",
       "romantic_no   0.063816  0.011182 -0.007870 -0.015121  0.010141 -0.026342   \n",
       "romantic_yes -0.063816 -0.011182  0.007870  0.015121 -0.010141  0.026342   \n",
       "\n",
       "              absences        G1        G2        G3  school_GP  school_MS  \\\n",
       "age           0.175230 -0.064081 -0.143474 -0.161579  -0.377610   0.377610   \n",
       "Medu          0.100285  0.205341  0.215527  0.217147   0.133333  -0.133333   \n",
       "...                ...       ...       ...       ...        ...        ...   \n",
       "romantic_no  -0.153384  0.037188  0.111774  0.129970   0.060700  -0.060700   \n",
       "romantic_yes  0.153384 -0.037188 -0.111774 -0.129970  -0.060700   0.060700   \n",
       "\n",
       "                 sex_F     sex_M  address_R  address_U  famsize_GT3  \\\n",
       "age           0.028606 -0.028606   0.146722  -0.146722    -0.037847   \n",
       "Medu         -0.078228  0.078228  -0.138804   0.138804     0.043068   \n",
       "...                ...       ...        ...        ...          ...   \n",
       "romantic_no  -0.102023  0.102023   0.005257  -0.005257     0.034395   \n",
       "romantic_yes  0.102023 -0.102023  -0.005257   0.005257    -0.034395   \n",
       "\n",
       "              famsize_LE3  Pstatus_A  Pstatus_T  Mjob_at_home  Mjob_health  \\\n",
       "age              0.037847  -0.029598   0.029598      0.088745    -0.082660   \n",
       "Medu            -0.043068   0.123565  -0.123565     -0.397637     0.251973   \n",
       "...                   ...        ...        ...           ...          ...   \n",
       "romantic_no     -0.034395  -0.040451   0.040451     -0.019326    -0.031343   \n",
       "romantic_yes     0.034395   0.040451  -0.040451      0.019326     0.031343   \n",
       "\n",
       "              Mjob_other  Mjob_services  Mjob_teacher  Fjob_at_home  \\\n",
       "age             0.032488      -0.007732     -0.058256      0.082233   \n",
       "Medu           -0.235176       0.051764      0.454911     -0.073794   \n",
       "...                  ...            ...           ...           ...   \n",
       "romantic_no    -0.043476       0.041810      0.051288     -0.056706   \n",
       "romantic_yes    0.043476      -0.041810     -0.051288      0.056706   \n",
       "\n",
       "              Fjob_health  Fjob_other  Fjob_services  Fjob_teacher  \\\n",
       "age             -0.109842    0.007682       0.042963     -0.069993   \n",
       "Medu             0.083398   -0.109887      -0.031834      0.259836   \n",
       "...                   ...         ...            ...           ...   \n",
       "romantic_no      0.000391    0.059505      -0.022762     -0.026933   \n",
       "romantic_yes    -0.000391   -0.059505       0.022762      0.026933   \n",
       "\n",
       "              reason_course  reason_home  reason_other  reason_reputation  \\\n",
       "age               -0.003913     0.018283      0.027172          -0.031932   \n",
       "Medu              -0.094435    -0.008708      0.008229           0.106487   \n",
       "...                     ...          ...           ...                ...   \n",
       "romantic_no        0.049613    -0.030914     -0.074026           0.025374   \n",
       "romantic_yes      -0.049613     0.030914      0.074026          -0.025374   \n",
       "\n",
       "              guardian_father  guardian_mother  guardian_other  schoolsup_no  \\\n",
       "age                 -0.112046        -0.133558        0.398396      0.251811   \n",
       "Medu                -0.046609         0.112375       -0.118635      0.036029   \n",
       "...                       ...              ...             ...           ...   \n",
       "romantic_no          0.039359         0.037525       -0.124045     -0.080716   \n",
       "romantic_yes        -0.039359        -0.037525        0.124045      0.080716   \n",
       "\n",
       "              schoolsup_yes  famsup_no  famsup_yes   paid_no  paid_yes  \\\n",
       "age               -0.251811   0.140609   -0.140609  0.035933 -0.035933   \n",
       "Medu              -0.036029  -0.183727    0.183727 -0.159700  0.159700   \n",
       "...                     ...        ...         ...       ...       ...   \n",
       "romantic_no        0.080716   0.012440   -0.012440  0.005536 -0.005536   \n",
       "romantic_yes      -0.080716  -0.012440    0.012440 -0.005536  0.005536   \n",
       "\n",
       "              activities_no  activities_yes  nursery_no  nursery_yes  \\\n",
       "age                0.103063       -0.103063    0.086632    -0.086632   \n",
       "Medu              -0.108277        0.108277   -0.193263     0.193263   \n",
       "...                     ...             ...         ...          ...   \n",
       "romantic_no        0.019651       -0.019651    0.027495    -0.027495   \n",
       "romantic_yes      -0.019651        0.019651   -0.027495     0.027495   \n",
       "\n",
       "              higher_no  higher_yes  internet_no  internet_yes  romantic_no  \\\n",
       "age            0.209081   -0.209081     0.112094     -0.112094    -0.164669   \n",
       "Medu          -0.168845    0.168845    -0.201463      0.201463    -0.039681   \n",
       "...                 ...         ...          ...           ...          ...   \n",
       "romantic_no   -0.105664    0.105664     0.087122     -0.087122     1.000000   \n",
       "romantic_yes   0.105664   -0.105664    -0.087122      0.087122    -1.000000   \n",
       "\n",
       "              romantic_yes  \n",
       "age               0.164669  \n",
       "Medu              0.039681  \n",
       "...                    ...  \n",
       "romantic_no      -1.000000  \n",
       "romantic_yes      1.000000  \n",
       "\n",
       "[59 rows x 59 columns]"
      ]
     },
     "execution_count": 25,
     "metadata": {},
     "output_type": "execute_result"
    }
   ],
   "source": [
    "dummy1.corr()"
   ]
  },
  {
   "cell_type": "code",
   "execution_count": 26,
   "metadata": {},
   "outputs": [],
   "source": [
    "X1 = dummy1[['age', 'Medu', 'Fedu', 'traveltime', 'studytime', 'failures', 'famrel',\n",
    "       'freetime', 'goout', 'health', 'G1', 'G2',\n",
    "       'G3', 'school_GP', 'school_MS', 'sex_F', 'sex_M', 'address_R',\n",
    "       'address_U', 'famsize_GT3', 'famsize_LE3', 'Pstatus_A', 'Pstatus_T',\n",
    "       'Mjob_at_home', 'Mjob_health', 'Mjob_other', 'Mjob_services',\n",
    "       'Mjob_teacher', 'Fjob_at_home', 'Fjob_health', 'Fjob_other',\n",
    "       'Fjob_services', 'Fjob_teacher', 'reason_course', 'reason_home',\n",
    "       'reason_other', 'reason_reputation', 'guardian_father',\n",
    "       'guardian_mother', 'guardian_other', 'schoolsup_no', 'schoolsup_yes',\n",
    "       'famsup_no', 'famsup_yes', 'paid_no', 'paid_yes', 'activities_no',\n",
    "       'activities_yes', 'nursery_no', 'nursery_yes', 'higher_no',\n",
    "       'higher_yes', 'internet_no', 'internet_yes', 'romantic_no',\n",
    "       'romantic_yes']]\n",
    "\n",
    "y1 = dummy1[['absences']]"
   ]
  },
  {
   "cell_type": "code",
   "execution_count": 27,
   "metadata": {},
   "outputs": [],
   "source": [
    "X1_train, X1_test, y1_train, y1_test = train_test_split(X1, y1, test_size=0.20, random_state=1)"
   ]
  },
  {
   "cell_type": "code",
   "execution_count": 28,
   "metadata": {},
   "outputs": [
    {
     "data": {
      "text/plain": [
       "LinearRegression(copy_X=True, fit_intercept=True, n_jobs=1, normalize=False)"
      ]
     },
     "execution_count": 28,
     "metadata": {},
     "output_type": "execute_result"
    }
   ],
   "source": [
    "regression_model1 = LinearRegression()\n",
    "regression_model1.fit(X1_train, y1_train)"
   ]
  },
  {
   "cell_type": "code",
   "execution_count": 29,
   "metadata": {},
   "outputs": [
    {
     "data": {
      "text/plain": [
       "0.15847466583944203"
      ]
     },
     "execution_count": 29,
     "metadata": {},
     "output_type": "execute_result"
    }
   ],
   "source": [
    "regression_model1.score(X1_test, y1_test)"
   ]
  },
  {
   "cell_type": "code",
   "execution_count": 30,
   "metadata": {},
   "outputs": [
    {
     "data": {
      "text/plain": [
       "<matplotlib.collections.PathCollection at 0x252d0d58ef0>"
      ]
     },
     "execution_count": 30,
     "metadata": {},
     "output_type": "execute_result"
    },
    {
     "data": {
      "image/png": "[encoded data removed]",
      "text/plain": [
       "<Figure size 432x288 with 1 Axes>"
      ]
     },
     "metadata": {
      "needs_background": "light"
     },
     "output_type": "display_data"
    }
   ],
   "source": [
    "predictions1 = regression_model1.predict(X1_test)\n",
    "plt.scatter(y1_test,predictions1)"
   ]
  },
  {
   "cell_type": "code",
   "execution_count": 33,
   "metadata": {},
   "outputs": [
    {
     "data": {
      "text/plain": [
       "40.302065402646605"
      ]
     },
     "execution_count": 33,
     "metadata": {},
     "output_type": "execute_result"
    }
   ],
   "source": [
    "y1_predict = regression_model1.predict(X1_test)\n",
    "\n",
    "regression_model_mse1 = mean_squared_error(y1_predict, y1_test)\n",
    "\n",
    "regression_model_mse1"
   ]
  },
  {
   "cell_type": "code",
   "execution_count": 34,
   "metadata": {},
   "outputs": [
    {
     "name": "stdout",
     "output_type": "stream",
     "text": [
      "RSME1:\n"
     ]
    },
    {
     "data": {
      "text/plain": [
       "6.348390772679846"
      ]
     },
     "execution_count": 34,
     "metadata": {},
     "output_type": "execute_result"
    }
   ],
   "source": [
    "print(\"RSME1:\")\n",
    "math.sqrt(regression_model_mse1)"
   ]
  },
  {
   "cell_type": "markdown",
   "metadata": {},
   "source": [
    "# 2) Remove 'famrel', 'address_R', 'goout', 'romantic_no', 'romantic_yes', 'address_U', 'famsize_GT3', 'famsize_LE3', 'Pstatus_A', 'Pstatus_T', 'Mjob_at_home', 'Mjob_health', 'Mjob_other', 'Mjob_services', 'Mjob_teacher', 'Fjob_at_home', 'Fjob_health', 'Fjob_other', 'guardian_father','guardian_mother', 'guardian_other','Fjob_services', 'Dalc', 'Walc'"
   ]
  },
  {
   "cell_type": "code",
   "execution_count": 35,
   "metadata": {},
   "outputs": [],
   "source": [
    "df2 = pd.read_csv('student-mat.csv', sep=';')"
   ]
  },
  {
   "cell_type": "code",
   "execution_count": 36,
   "metadata": {},
   "outputs": [],
   "source": [
    "dummy2 = pd.get_dummies(df2[list(df2)])"
   ]
  },
  {
   "cell_type": "code",
   "execution_count": 37,
   "metadata": {},
   "outputs": [
    {
     "data": {
      "text/html": [
       "<div>\n",
       "<style scoped>\n",
       "    .dataframe tbody tr th:only-of-type {\n",
       "        vertical-align: middle;\n",
       "    }\n",
       "\n",
       "    .dataframe tbody tr th {\n",
       "        vertical-align: top;\n",
       "    }\n",
       "\n",
       "    .dataframe thead th {\n",
       "        text-align: right;\n",
       "    }\n",
       "</style>\n",
       "<table border=\"1\" class=\"dataframe\">\n",
       "  <thead>\n",
       "    <tr style=\"text-align: right;\">\n",
       "      <th></th>\n",
       "      <th>age</th>\n",
       "      <th>Medu</th>\n",
       "      <th>Fedu</th>\n",
       "      <th>traveltime</th>\n",
       "      <th>studytime</th>\n",
       "      <th>failures</th>\n",
       "      <th>famrel</th>\n",
       "      <th>freetime</th>\n",
       "      <th>goout</th>\n",
       "      <th>Dalc</th>\n",
       "      <th>Walc</th>\n",
       "      <th>health</th>\n",
       "      <th>absences</th>\n",
       "      <th>G1</th>\n",
       "      <th>G2</th>\n",
       "      <th>G3</th>\n",
       "      <th>school_GP</th>\n",
       "      <th>school_MS</th>\n",
       "      <th>sex_F</th>\n",
       "      <th>sex_M</th>\n",
       "      <th>address_R</th>\n",
       "      <th>address_U</th>\n",
       "      <th>famsize_GT3</th>\n",
       "      <th>famsize_LE3</th>\n",
       "      <th>Pstatus_A</th>\n",
       "      <th>Pstatus_T</th>\n",
       "      <th>Mjob_at_home</th>\n",
       "      <th>Mjob_health</th>\n",
       "      <th>Mjob_other</th>\n",
       "      <th>Mjob_services</th>\n",
       "      <th>Mjob_teacher</th>\n",
       "      <th>Fjob_at_home</th>\n",
       "      <th>Fjob_health</th>\n",
       "      <th>Fjob_other</th>\n",
       "      <th>Fjob_services</th>\n",
       "      <th>Fjob_teacher</th>\n",
       "      <th>reason_course</th>\n",
       "      <th>reason_home</th>\n",
       "      <th>reason_other</th>\n",
       "      <th>reason_reputation</th>\n",
       "      <th>guardian_father</th>\n",
       "      <th>guardian_mother</th>\n",
       "      <th>guardian_other</th>\n",
       "      <th>schoolsup_no</th>\n",
       "      <th>schoolsup_yes</th>\n",
       "      <th>famsup_no</th>\n",
       "      <th>famsup_yes</th>\n",
       "      <th>paid_no</th>\n",
       "      <th>paid_yes</th>\n",
       "      <th>activities_no</th>\n",
       "      <th>activities_yes</th>\n",
       "      <th>nursery_no</th>\n",
       "      <th>nursery_yes</th>\n",
       "      <th>higher_no</th>\n",
       "      <th>higher_yes</th>\n",
       "      <th>internet_no</th>\n",
       "      <th>internet_yes</th>\n",
       "      <th>romantic_no</th>\n",
       "      <th>romantic_yes</th>\n",
       "    </tr>\n",
       "  </thead>\n",
       "  <tbody>\n",
       "    <tr>\n",
       "      <th>age</th>\n",
       "      <td>1.000000</td>\n",
       "      <td>-0.163658</td>\n",
       "      <td>-0.163438</td>\n",
       "      <td>0.070641</td>\n",
       "      <td>-0.004140</td>\n",
       "      <td>0.243665</td>\n",
       "      <td>0.053940</td>\n",
       "      <td>0.016434</td>\n",
       "      <td>0.126964</td>\n",
       "      <td>0.131125</td>\n",
       "      <td>0.117276</td>\n",
       "      <td>-0.062187</td>\n",
       "      <td>0.175230</td>\n",
       "      <td>-0.064081</td>\n",
       "      <td>-0.143474</td>\n",
       "      <td>-0.161579</td>\n",
       "      <td>-0.377610</td>\n",
       "      <td>0.377610</td>\n",
       "      <td>0.028606</td>\n",
       "      <td>-0.028606</td>\n",
       "      <td>0.146722</td>\n",
       "      <td>-0.146722</td>\n",
       "      <td>-0.037847</td>\n",
       "      <td>0.037847</td>\n",
       "      <td>-0.029598</td>\n",
       "      <td>0.029598</td>\n",
       "      <td>0.088745</td>\n",
       "      <td>-0.082660</td>\n",
       "      <td>0.032488</td>\n",
       "      <td>-0.007732</td>\n",
       "      <td>-0.058256</td>\n",
       "      <td>0.082233</td>\n",
       "      <td>-0.109842</td>\n",
       "      <td>0.007682</td>\n",
       "      <td>0.042963</td>\n",
       "      <td>-0.069993</td>\n",
       "      <td>-0.003913</td>\n",
       "      <td>0.018283</td>\n",
       "      <td>0.027172</td>\n",
       "      <td>-0.031932</td>\n",
       "      <td>-0.112046</td>\n",
       "      <td>-0.133558</td>\n",
       "      <td>0.398396</td>\n",
       "      <td>0.251811</td>\n",
       "      <td>-0.251811</td>\n",
       "      <td>0.140609</td>\n",
       "      <td>-0.140609</td>\n",
       "      <td>0.035933</td>\n",
       "      <td>-0.035933</td>\n",
       "      <td>0.103063</td>\n",
       "      <td>-0.103063</td>\n",
       "      <td>0.086632</td>\n",
       "      <td>-0.086632</td>\n",
       "      <td>0.209081</td>\n",
       "      <td>-0.209081</td>\n",
       "      <td>0.112094</td>\n",
       "      <td>-0.112094</td>\n",
       "      <td>-0.164669</td>\n",
       "      <td>0.164669</td>\n",
       "    </tr>\n",
       "    <tr>\n",
       "      <th>Medu</th>\n",
       "      <td>-0.163658</td>\n",
       "      <td>1.000000</td>\n",
       "      <td>0.623455</td>\n",
       "      <td>-0.171639</td>\n",
       "      <td>0.064944</td>\n",
       "      <td>-0.236680</td>\n",
       "      <td>-0.003914</td>\n",
       "      <td>0.030891</td>\n",
       "      <td>0.064094</td>\n",
       "      <td>0.019834</td>\n",
       "      <td>-0.047123</td>\n",
       "      <td>-0.046878</td>\n",
       "      <td>0.100285</td>\n",
       "      <td>0.205341</td>\n",
       "      <td>0.215527</td>\n",
       "      <td>0.217147</td>\n",
       "      <td>0.133333</td>\n",
       "      <td>-0.133333</td>\n",
       "      <td>-0.078228</td>\n",
       "      <td>0.078228</td>\n",
       "      <td>-0.138804</td>\n",
       "      <td>0.138804</td>\n",
       "      <td>0.043068</td>\n",
       "      <td>-0.043068</td>\n",
       "      <td>0.123565</td>\n",
       "      <td>-0.123565</td>\n",
       "      <td>-0.397637</td>\n",
       "      <td>0.251973</td>\n",
       "      <td>-0.235176</td>\n",
       "      <td>0.051764</td>\n",
       "      <td>0.454911</td>\n",
       "      <td>-0.073794</td>\n",
       "      <td>0.083398</td>\n",
       "      <td>-0.109887</td>\n",
       "      <td>-0.031834</td>\n",
       "      <td>0.259836</td>\n",
       "      <td>-0.094435</td>\n",
       "      <td>-0.008708</td>\n",
       "      <td>0.008229</td>\n",
       "      <td>0.106487</td>\n",
       "      <td>-0.046609</td>\n",
       "      <td>0.112375</td>\n",
       "      <td>-0.118635</td>\n",
       "      <td>0.036029</td>\n",
       "      <td>-0.036029</td>\n",
       "      <td>-0.183727</td>\n",
       "      <td>0.183727</td>\n",
       "      <td>-0.159700</td>\n",
       "      <td>0.159700</td>\n",
       "      <td>-0.108277</td>\n",
       "      <td>0.108277</td>\n",
       "      <td>-0.193263</td>\n",
       "      <td>0.193263</td>\n",
       "      <td>-0.168845</td>\n",
       "      <td>0.168845</td>\n",
       "      <td>-0.201463</td>\n",
       "      <td>0.201463</td>\n",
       "      <td>-0.039681</td>\n",
       "      <td>0.039681</td>\n",
       "    </tr>\n",
       "    <tr>\n",
       "      <th>...</th>\n",
       "      <td>...</td>\n",
       "      <td>...</td>\n",
       "      <td>...</td>\n",
       "      <td>...</td>\n",
       "      <td>...</td>\n",
       "      <td>...</td>\n",
       "      <td>...</td>\n",
       "      <td>...</td>\n",
       "      <td>...</td>\n",
       "      <td>...</td>\n",
       "      <td>...</td>\n",
       "      <td>...</td>\n",
       "      <td>...</td>\n",
       "      <td>...</td>\n",
       "      <td>...</td>\n",
       "      <td>...</td>\n",
       "      <td>...</td>\n",
       "      <td>...</td>\n",
       "      <td>...</td>\n",
       "      <td>...</td>\n",
       "      <td>...</td>\n",
       "      <td>...</td>\n",
       "      <td>...</td>\n",
       "      <td>...</td>\n",
       "      <td>...</td>\n",
       "      <td>...</td>\n",
       "      <td>...</td>\n",
       "      <td>...</td>\n",
       "      <td>...</td>\n",
       "      <td>...</td>\n",
       "      <td>...</td>\n",
       "      <td>...</td>\n",
       "      <td>...</td>\n",
       "      <td>...</td>\n",
       "      <td>...</td>\n",
       "      <td>...</td>\n",
       "      <td>...</td>\n",
       "      <td>...</td>\n",
       "      <td>...</td>\n",
       "      <td>...</td>\n",
       "      <td>...</td>\n",
       "      <td>...</td>\n",
       "      <td>...</td>\n",
       "      <td>...</td>\n",
       "      <td>...</td>\n",
       "      <td>...</td>\n",
       "      <td>...</td>\n",
       "      <td>...</td>\n",
       "      <td>...</td>\n",
       "      <td>...</td>\n",
       "      <td>...</td>\n",
       "      <td>...</td>\n",
       "      <td>...</td>\n",
       "      <td>...</td>\n",
       "      <td>...</td>\n",
       "      <td>...</td>\n",
       "      <td>...</td>\n",
       "      <td>...</td>\n",
       "      <td>...</td>\n",
       "    </tr>\n",
       "    <tr>\n",
       "      <th>romantic_no</th>\n",
       "      <td>-0.164669</td>\n",
       "      <td>-0.039681</td>\n",
       "      <td>-0.015602</td>\n",
       "      <td>-0.021962</td>\n",
       "      <td>-0.053285</td>\n",
       "      <td>-0.093137</td>\n",
       "      <td>0.063816</td>\n",
       "      <td>0.011182</td>\n",
       "      <td>-0.007870</td>\n",
       "      <td>-0.015121</td>\n",
       "      <td>0.010141</td>\n",
       "      <td>-0.026342</td>\n",
       "      <td>-0.153384</td>\n",
       "      <td>0.037188</td>\n",
       "      <td>0.111774</td>\n",
       "      <td>0.129970</td>\n",
       "      <td>0.060700</td>\n",
       "      <td>-0.060700</td>\n",
       "      <td>-0.102023</td>\n",
       "      <td>0.102023</td>\n",
       "      <td>0.005257</td>\n",
       "      <td>-0.005257</td>\n",
       "      <td>0.034395</td>\n",
       "      <td>-0.034395</td>\n",
       "      <td>-0.040451</td>\n",
       "      <td>0.040451</td>\n",
       "      <td>-0.019326</td>\n",
       "      <td>-0.031343</td>\n",
       "      <td>-0.043476</td>\n",
       "      <td>0.041810</td>\n",
       "      <td>0.051288</td>\n",
       "      <td>-0.056706</td>\n",
       "      <td>0.000391</td>\n",
       "      <td>0.059505</td>\n",
       "      <td>-0.022762</td>\n",
       "      <td>-0.026933</td>\n",
       "      <td>0.049613</td>\n",
       "      <td>-0.030914</td>\n",
       "      <td>-0.074026</td>\n",
       "      <td>0.025374</td>\n",
       "      <td>0.039359</td>\n",
       "      <td>0.037525</td>\n",
       "      <td>-0.124045</td>\n",
       "      <td>-0.080716</td>\n",
       "      <td>0.080716</td>\n",
       "      <td>0.012440</td>\n",
       "      <td>-0.012440</td>\n",
       "      <td>0.005536</td>\n",
       "      <td>-0.005536</td>\n",
       "      <td>0.019651</td>\n",
       "      <td>-0.019651</td>\n",
       "      <td>0.027495</td>\n",
       "      <td>-0.027495</td>\n",
       "      <td>-0.105664</td>\n",
       "      <td>0.105664</td>\n",
       "      <td>0.087122</td>\n",
       "      <td>-0.087122</td>\n",
       "      <td>1.000000</td>\n",
       "      <td>-1.000000</td>\n",
       "    </tr>\n",
       "    <tr>\n",
       "      <th>romantic_yes</th>\n",
       "      <td>0.164669</td>\n",
       "      <td>0.039681</td>\n",
       "      <td>0.015602</td>\n",
       "      <td>0.021962</td>\n",
       "      <td>0.053285</td>\n",
       "      <td>0.093137</td>\n",
       "      <td>-0.063816</td>\n",
       "      <td>-0.011182</td>\n",
       "      <td>0.007870</td>\n",
       "      <td>0.015121</td>\n",
       "      <td>-0.010141</td>\n",
       "      <td>0.026342</td>\n",
       "      <td>0.153384</td>\n",
       "      <td>-0.037188</td>\n",
       "      <td>-0.111774</td>\n",
       "      <td>-0.129970</td>\n",
       "      <td>-0.060700</td>\n",
       "      <td>0.060700</td>\n",
       "      <td>0.102023</td>\n",
       "      <td>-0.102023</td>\n",
       "      <td>-0.005257</td>\n",
       "      <td>0.005257</td>\n",
       "      <td>-0.034395</td>\n",
       "      <td>0.034395</td>\n",
       "      <td>0.040451</td>\n",
       "      <td>-0.040451</td>\n",
       "      <td>0.019326</td>\n",
       "      <td>0.031343</td>\n",
       "      <td>0.043476</td>\n",
       "      <td>-0.041810</td>\n",
       "      <td>-0.051288</td>\n",
       "      <td>0.056706</td>\n",
       "      <td>-0.000391</td>\n",
       "      <td>-0.059505</td>\n",
       "      <td>0.022762</td>\n",
       "      <td>0.026933</td>\n",
       "      <td>-0.049613</td>\n",
       "      <td>0.030914</td>\n",
       "      <td>0.074026</td>\n",
       "      <td>-0.025374</td>\n",
       "      <td>-0.039359</td>\n",
       "      <td>-0.037525</td>\n",
       "      <td>0.124045</td>\n",
       "      <td>0.080716</td>\n",
       "      <td>-0.080716</td>\n",
       "      <td>-0.012440</td>\n",
       "      <td>0.012440</td>\n",
       "      <td>-0.005536</td>\n",
       "      <td>0.005536</td>\n",
       "      <td>-0.019651</td>\n",
       "      <td>0.019651</td>\n",
       "      <td>-0.027495</td>\n",
       "      <td>0.027495</td>\n",
       "      <td>0.105664</td>\n",
       "      <td>-0.105664</td>\n",
       "      <td>-0.087122</td>\n",
       "      <td>0.087122</td>\n",
       "      <td>-1.000000</td>\n",
       "      <td>1.000000</td>\n",
       "    </tr>\n",
       "  </tbody>\n",
       "</table>\n",
       "<p>59 rows × 59 columns</p>\n",
       "</div>"
      ],
      "text/plain": [
       "                   age      Medu      Fedu  traveltime  studytime  failures  \\\n",
       "age           1.000000 -0.163658 -0.163438    0.070641  -0.004140  0.243665   \n",
       "Medu         -0.163658  1.000000  0.623455   -0.171639   0.064944 -0.236680   \n",
       "...                ...       ...       ...         ...        ...       ...   \n",
       "romantic_no  -0.164669 -0.039681 -0.015602   -0.021962  -0.053285 -0.093137   \n",
       "romantic_yes  0.164669  0.039681  0.015602    0.021962   0.053285  0.093137   \n",
       "\n",
       "                famrel  freetime     goout      Dalc      Walc    health  \\\n",
       "age           0.053940  0.016434  0.126964  0.131125  0.117276 -0.062187   \n",
       "Medu         -0.003914  0.030891  0.064094  0.019834 -0.047123 -0.046878   \n",
       "...                ...       ...       ...       ...       ...       ...   \n",
       "romantic_no   0.063816  0.011182 -0.007870 -0.015121  0.010141 -0.026342   \n",
       "romantic_yes -0.063816 -0.011182  0.007870  0.015121 -0.010141  0.026342   \n",
       "\n",
       "              absences        G1        G2        G3  school_GP  school_MS  \\\n",
       "age           0.175230 -0.064081 -0.143474 -0.161579  -0.377610   0.377610   \n",
       "Medu          0.100285  0.205341  0.215527  0.217147   0.133333  -0.133333   \n",
       "...                ...       ...       ...       ...        ...        ...   \n",
       "romantic_no  -0.153384  0.037188  0.111774  0.129970   0.060700  -0.060700   \n",
       "romantic_yes  0.153384 -0.037188 -0.111774 -0.129970  -0.060700   0.060700   \n",
       "\n",
       "                 sex_F     sex_M  address_R  address_U  famsize_GT3  \\\n",
       "age           0.028606 -0.028606   0.146722  -0.146722    -0.037847   \n",
       "Medu         -0.078228  0.078228  -0.138804   0.138804     0.043068   \n",
       "...                ...       ...        ...        ...          ...   \n",
       "romantic_no  -0.102023  0.102023   0.005257  -0.005257     0.034395   \n",
       "romantic_yes  0.102023 -0.102023  -0.005257   0.005257    -0.034395   \n",
       "\n",
       "              famsize_LE3  Pstatus_A  Pstatus_T  Mjob_at_home  Mjob_health  \\\n",
       "age              0.037847  -0.029598   0.029598      0.088745    -0.082660   \n",
       "Medu            -0.043068   0.123565  -0.123565     -0.397637     0.251973   \n",
       "...                   ...        ...        ...           ...          ...   \n",
       "romantic_no     -0.034395  -0.040451   0.040451     -0.019326    -0.031343   \n",
       "romantic_yes     0.034395   0.040451  -0.040451      0.019326     0.031343   \n",
       "\n",
       "              Mjob_other  Mjob_services  Mjob_teacher  Fjob_at_home  \\\n",
       "age             0.032488      -0.007732     -0.058256      0.082233   \n",
       "Medu           -0.235176       0.051764      0.454911     -0.073794   \n",
       "...                  ...            ...           ...           ...   \n",
       "romantic_no    -0.043476       0.041810      0.051288     -0.056706   \n",
       "romantic_yes    0.043476      -0.041810     -0.051288      0.056706   \n",
       "\n",
       "              Fjob_health  Fjob_other  Fjob_services  Fjob_teacher  \\\n",
       "age             -0.109842    0.007682       0.042963     -0.069993   \n",
       "Medu             0.083398   -0.109887      -0.031834      0.259836   \n",
       "...                   ...         ...            ...           ...   \n",
       "romantic_no      0.000391    0.059505      -0.022762     -0.026933   \n",
       "romantic_yes    -0.000391   -0.059505       0.022762      0.026933   \n",
       "\n",
       "              reason_course  reason_home  reason_other  reason_reputation  \\\n",
       "age               -0.003913     0.018283      0.027172          -0.031932   \n",
       "Medu              -0.094435    -0.008708      0.008229           0.106487   \n",
       "...                     ...          ...           ...                ...   \n",
       "romantic_no        0.049613    -0.030914     -0.074026           0.025374   \n",
       "romantic_yes      -0.049613     0.030914      0.074026          -0.025374   \n",
       "\n",
       "              guardian_father  guardian_mother  guardian_other  schoolsup_no  \\\n",
       "age                 -0.112046        -0.133558        0.398396      0.251811   \n",
       "Medu                -0.046609         0.112375       -0.118635      0.036029   \n",
       "...                       ...              ...             ...           ...   \n",
       "romantic_no          0.039359         0.037525       -0.124045     -0.080716   \n",
       "romantic_yes        -0.039359        -0.037525        0.124045      0.080716   \n",
       "\n",
       "              schoolsup_yes  famsup_no  famsup_yes   paid_no  paid_yes  \\\n",
       "age               -0.251811   0.140609   -0.140609  0.035933 -0.035933   \n",
       "Medu              -0.036029  -0.183727    0.183727 -0.159700  0.159700   \n",
       "...                     ...        ...         ...       ...       ...   \n",
       "romantic_no        0.080716   0.012440   -0.012440  0.005536 -0.005536   \n",
       "romantic_yes      -0.080716  -0.012440    0.012440 -0.005536  0.005536   \n",
       "\n",
       "              activities_no  activities_yes  nursery_no  nursery_yes  \\\n",
       "age                0.103063       -0.103063    0.086632    -0.086632   \n",
       "Medu              -0.108277        0.108277   -0.193263     0.193263   \n",
       "...                     ...             ...         ...          ...   \n",
       "romantic_no        0.019651       -0.019651    0.027495    -0.027495   \n",
       "romantic_yes      -0.019651        0.019651   -0.027495     0.027495   \n",
       "\n",
       "              higher_no  higher_yes  internet_no  internet_yes  romantic_no  \\\n",
       "age            0.209081   -0.209081     0.112094     -0.112094    -0.164669   \n",
       "Medu          -0.168845    0.168845    -0.201463      0.201463    -0.039681   \n",
       "...                 ...         ...          ...           ...          ...   \n",
       "romantic_no   -0.105664    0.105664     0.087122     -0.087122     1.000000   \n",
       "romantic_yes   0.105664   -0.105664    -0.087122      0.087122    -1.000000   \n",
       "\n",
       "              romantic_yes  \n",
       "age               0.164669  \n",
       "Medu              0.039681  \n",
       "...                    ...  \n",
       "romantic_no      -1.000000  \n",
       "romantic_yes      1.000000  \n",
       "\n",
       "[59 rows x 59 columns]"
      ]
     },
     "execution_count": 37,
     "metadata": {},
     "output_type": "execute_result"
    }
   ],
   "source": [
    "dummy2.corr()"
   ]
  },
  {
   "cell_type": "code",
   "execution_count": 38,
   "metadata": {},
   "outputs": [],
   "source": [
    "X2 = dummy2[['age', 'Medu', 'Fedu', 'traveltime', 'studytime', 'failures',\n",
    "       'freetime', 'health', 'G1', 'G2','G3', 'school_GP', 'school_MS', 'sex_F', 'sex_M', \n",
    "        'reason_other', 'reason_reputation', 'schoolsup_no', 'schoolsup_yes',\n",
    "       'famsup_no', 'famsup_yes', 'paid_no', 'paid_yes', 'activities_no','Fjob_teacher', 'reason_course', 'reason_home', \n",
    "       'activities_yes', 'nursery_no', 'nursery_yes', 'higher_no',\n",
    "       'higher_yes', 'internet_no', 'internet_yes']]\n",
    "\n",
    "y2 = dummy2[['absences']]\n",
    "\n",
    "X_train2, X_test2, y_train2, y_test2 = train_test_split(X2, y2, test_size=0.20, random_state=1)"
   ]
  },
  {
   "cell_type": "code",
   "execution_count": 39,
   "metadata": {},
   "outputs": [
    {
     "data": {
      "text/plain": [
       "LinearRegression(copy_X=True, fit_intercept=True, n_jobs=1, normalize=False)"
      ]
     },
     "execution_count": 39,
     "metadata": {},
     "output_type": "execute_result"
    }
   ],
   "source": [
    "regression_model2 = LinearRegression()\n",
    "regression_model2.fit(X_train2, y_train2)"
   ]
  },
  {
   "cell_type": "code",
   "execution_count": 40,
   "metadata": {},
   "outputs": [
    {
     "data": {
      "text/plain": [
       "0.11844654143004818"
      ]
     },
     "execution_count": 40,
     "metadata": {},
     "output_type": "execute_result"
    }
   ],
   "source": [
    "regression_model2.score(X_test2, y_test2)"
   ]
  },
  {
   "cell_type": "code",
   "execution_count": 41,
   "metadata": {},
   "outputs": [
    {
     "data": {
      "text/plain": [
       "<matplotlib.collections.PathCollection at 0x252d18d5da0>"
      ]
     },
     "execution_count": 41,
     "metadata": {},
     "output_type": "execute_result"
    },
    {
     "data": {
      "image/png": "[encoded data removed]",
      "text/plain": [
       "<Figure size 432x288 with 1 Axes>"
      ]
     },
     "metadata": {
      "needs_background": "light"
     },
     "output_type": "display_data"
    }
   ],
   "source": [
    "predictions2 = regression_model2.predict(X_test2)\n",
    "plt.scatter(y_test2,predictions2)"
   ]
  },
  {
   "cell_type": "code",
   "execution_count": 42,
   "metadata": {},
   "outputs": [
    {
     "data": {
      "text/plain": [
       "42.219079688974524"
      ]
     },
     "execution_count": 42,
     "metadata": {},
     "output_type": "execute_result"
    }
   ],
   "source": [
    "y_predict2 = regression_model2.predict(X_test2)\n",
    "\n",
    "regression_model_mse2 = mean_squared_error(y_predict2, y_test2)\n",
    "\n",
    "regression_model_mse2"
   ]
  },
  {
   "cell_type": "code",
   "execution_count": 43,
   "metadata": {},
   "outputs": [
    {
     "name": "stdout",
     "output_type": "stream",
     "text": [
      "RSME2:\n"
     ]
    },
    {
     "data": {
      "text/plain": [
       "6.497621079208492"
      ]
     },
     "execution_count": 43,
     "metadata": {},
     "output_type": "execute_result"
    }
   ],
   "source": [
    "print(\"RSME2:\")\n",
    "math.sqrt(regression_model_mse2)"
   ]
  },
  {
   "cell_type": "markdown",
   "metadata": {},
   "source": [
    "# 3) Remove 'Medu', 'Fedu', 'traveltime', 'studytime', 'failures', 'G1', 'G2','G3', 'school_GP', 'school_MS', 'reason_other', 'reason_reputation', 'schoolsup_no', 'schoolsup_yes', 'famsup_no', 'famsup_yes', 'paid_no', 'paid_yes', 'activities_no', 'activities_yes', 'nursery_no', 'nursery_yes', 'higher_no', 'higher_yes', 'Fjob_teacher', 'reason_course', 'reason_home', 'reason_other', 'reason_reputation',"
   ]
  },
  {
   "cell_type": "code",
   "execution_count": 44,
   "metadata": {},
   "outputs": [],
   "source": [
    "df3 = pd.read_csv('student-mat.csv', sep=';')\n",
    "dummy3 = pd.get_dummies(df3[list(df3)])"
   ]
  },
  {
   "cell_type": "code",
   "execution_count": 45,
   "metadata": {},
   "outputs": [
    {
     "data": {
      "text/html": [
       "<div>\n",
       "<style scoped>\n",
       "    .dataframe tbody tr th:only-of-type {\n",
       "        vertical-align: middle;\n",
       "    }\n",
       "\n",
       "    .dataframe tbody tr th {\n",
       "        vertical-align: top;\n",
       "    }\n",
       "\n",
       "    .dataframe thead th {\n",
       "        text-align: right;\n",
       "    }\n",
       "</style>\n",
       "<table border=\"1\" class=\"dataframe\">\n",
       "  <thead>\n",
       "    <tr style=\"text-align: right;\">\n",
       "      <th></th>\n",
       "      <th>age</th>\n",
       "      <th>Medu</th>\n",
       "      <th>Fedu</th>\n",
       "      <th>traveltime</th>\n",
       "      <th>studytime</th>\n",
       "      <th>failures</th>\n",
       "      <th>famrel</th>\n",
       "      <th>freetime</th>\n",
       "      <th>goout</th>\n",
       "      <th>Dalc</th>\n",
       "      <th>Walc</th>\n",
       "      <th>health</th>\n",
       "      <th>absences</th>\n",
       "      <th>G1</th>\n",
       "      <th>G2</th>\n",
       "      <th>G3</th>\n",
       "      <th>school_GP</th>\n",
       "      <th>school_MS</th>\n",
       "      <th>sex_F</th>\n",
       "      <th>sex_M</th>\n",
       "      <th>address_R</th>\n",
       "      <th>address_U</th>\n",
       "      <th>famsize_GT3</th>\n",
       "      <th>famsize_LE3</th>\n",
       "      <th>Pstatus_A</th>\n",
       "      <th>Pstatus_T</th>\n",
       "      <th>Mjob_at_home</th>\n",
       "      <th>Mjob_health</th>\n",
       "      <th>Mjob_other</th>\n",
       "      <th>Mjob_services</th>\n",
       "      <th>Mjob_teacher</th>\n",
       "      <th>Fjob_at_home</th>\n",
       "      <th>Fjob_health</th>\n",
       "      <th>Fjob_other</th>\n",
       "      <th>Fjob_services</th>\n",
       "      <th>Fjob_teacher</th>\n",
       "      <th>reason_course</th>\n",
       "      <th>reason_home</th>\n",
       "      <th>reason_other</th>\n",
       "      <th>reason_reputation</th>\n",
       "      <th>guardian_father</th>\n",
       "      <th>guardian_mother</th>\n",
       "      <th>guardian_other</th>\n",
       "      <th>schoolsup_no</th>\n",
       "      <th>schoolsup_yes</th>\n",
       "      <th>famsup_no</th>\n",
       "      <th>famsup_yes</th>\n",
       "      <th>paid_no</th>\n",
       "      <th>paid_yes</th>\n",
       "      <th>activities_no</th>\n",
       "      <th>activities_yes</th>\n",
       "      <th>nursery_no</th>\n",
       "      <th>nursery_yes</th>\n",
       "      <th>higher_no</th>\n",
       "      <th>higher_yes</th>\n",
       "      <th>internet_no</th>\n",
       "      <th>internet_yes</th>\n",
       "      <th>romantic_no</th>\n",
       "      <th>romantic_yes</th>\n",
       "    </tr>\n",
       "  </thead>\n",
       "  <tbody>\n",
       "    <tr>\n",
       "      <th>age</th>\n",
       "      <td>1.000000</td>\n",
       "      <td>-0.163658</td>\n",
       "      <td>-0.163438</td>\n",
       "      <td>0.070641</td>\n",
       "      <td>-0.004140</td>\n",
       "      <td>0.243665</td>\n",
       "      <td>0.053940</td>\n",
       "      <td>0.016434</td>\n",
       "      <td>0.126964</td>\n",
       "      <td>0.131125</td>\n",
       "      <td>0.117276</td>\n",
       "      <td>-0.062187</td>\n",
       "      <td>0.175230</td>\n",
       "      <td>-0.064081</td>\n",
       "      <td>-0.143474</td>\n",
       "      <td>-0.161579</td>\n",
       "      <td>-0.377610</td>\n",
       "      <td>0.377610</td>\n",
       "      <td>0.028606</td>\n",
       "      <td>-0.028606</td>\n",
       "      <td>0.146722</td>\n",
       "      <td>-0.146722</td>\n",
       "      <td>-0.037847</td>\n",
       "      <td>0.037847</td>\n",
       "      <td>-0.029598</td>\n",
       "      <td>0.029598</td>\n",
       "      <td>0.088745</td>\n",
       "      <td>-0.082660</td>\n",
       "      <td>0.032488</td>\n",
       "      <td>-0.007732</td>\n",
       "      <td>-0.058256</td>\n",
       "      <td>0.082233</td>\n",
       "      <td>-0.109842</td>\n",
       "      <td>0.007682</td>\n",
       "      <td>0.042963</td>\n",
       "      <td>-0.069993</td>\n",
       "      <td>-0.003913</td>\n",
       "      <td>0.018283</td>\n",
       "      <td>0.027172</td>\n",
       "      <td>-0.031932</td>\n",
       "      <td>-0.112046</td>\n",
       "      <td>-0.133558</td>\n",
       "      <td>0.398396</td>\n",
       "      <td>0.251811</td>\n",
       "      <td>-0.251811</td>\n",
       "      <td>0.140609</td>\n",
       "      <td>-0.140609</td>\n",
       "      <td>0.035933</td>\n",
       "      <td>-0.035933</td>\n",
       "      <td>0.103063</td>\n",
       "      <td>-0.103063</td>\n",
       "      <td>0.086632</td>\n",
       "      <td>-0.086632</td>\n",
       "      <td>0.209081</td>\n",
       "      <td>-0.209081</td>\n",
       "      <td>0.112094</td>\n",
       "      <td>-0.112094</td>\n",
       "      <td>-0.164669</td>\n",
       "      <td>0.164669</td>\n",
       "    </tr>\n",
       "    <tr>\n",
       "      <th>Medu</th>\n",
       "      <td>-0.163658</td>\n",
       "      <td>1.000000</td>\n",
       "      <td>0.623455</td>\n",
       "      <td>-0.171639</td>\n",
       "      <td>0.064944</td>\n",
       "      <td>-0.236680</td>\n",
       "      <td>-0.003914</td>\n",
       "      <td>0.030891</td>\n",
       "      <td>0.064094</td>\n",
       "      <td>0.019834</td>\n",
       "      <td>-0.047123</td>\n",
       "      <td>-0.046878</td>\n",
       "      <td>0.100285</td>\n",
       "      <td>0.205341</td>\n",
       "      <td>0.215527</td>\n",
       "      <td>0.217147</td>\n",
       "      <td>0.133333</td>\n",
       "      <td>-0.133333</td>\n",
       "      <td>-0.078228</td>\n",
       "      <td>0.078228</td>\n",
       "      <td>-0.138804</td>\n",
       "      <td>0.138804</td>\n",
       "      <td>0.043068</td>\n",
       "      <td>-0.043068</td>\n",
       "      <td>0.123565</td>\n",
       "      <td>-0.123565</td>\n",
       "      <td>-0.397637</td>\n",
       "      <td>0.251973</td>\n",
       "      <td>-0.235176</td>\n",
       "      <td>0.051764</td>\n",
       "      <td>0.454911</td>\n",
       "      <td>-0.073794</td>\n",
       "      <td>0.083398</td>\n",
       "      <td>-0.109887</td>\n",
       "      <td>-0.031834</td>\n",
       "      <td>0.259836</td>\n",
       "      <td>-0.094435</td>\n",
       "      <td>-0.008708</td>\n",
       "      <td>0.008229</td>\n",
       "      <td>0.106487</td>\n",
       "      <td>-0.046609</td>\n",
       "      <td>0.112375</td>\n",
       "      <td>-0.118635</td>\n",
       "      <td>0.036029</td>\n",
       "      <td>-0.036029</td>\n",
       "      <td>-0.183727</td>\n",
       "      <td>0.183727</td>\n",
       "      <td>-0.159700</td>\n",
       "      <td>0.159700</td>\n",
       "      <td>-0.108277</td>\n",
       "      <td>0.108277</td>\n",
       "      <td>-0.193263</td>\n",
       "      <td>0.193263</td>\n",
       "      <td>-0.168845</td>\n",
       "      <td>0.168845</td>\n",
       "      <td>-0.201463</td>\n",
       "      <td>0.201463</td>\n",
       "      <td>-0.039681</td>\n",
       "      <td>0.039681</td>\n",
       "    </tr>\n",
       "    <tr>\n",
       "      <th>...</th>\n",
       "      <td>...</td>\n",
       "      <td>...</td>\n",
       "      <td>...</td>\n",
       "      <td>...</td>\n",
       "      <td>...</td>\n",
       "      <td>...</td>\n",
       "      <td>...</td>\n",
       "      <td>...</td>\n",
       "      <td>...</td>\n",
       "      <td>...</td>\n",
       "      <td>...</td>\n",
       "      <td>...</td>\n",
       "      <td>...</td>\n",
       "      <td>...</td>\n",
       "      <td>...</td>\n",
       "      <td>...</td>\n",
       "      <td>...</td>\n",
       "      <td>...</td>\n",
       "      <td>...</td>\n",
       "      <td>...</td>\n",
       "      <td>...</td>\n",
       "      <td>...</td>\n",
       "      <td>...</td>\n",
       "      <td>...</td>\n",
       "      <td>...</td>\n",
       "      <td>...</td>\n",
       "      <td>...</td>\n",
       "      <td>...</td>\n",
       "      <td>...</td>\n",
       "      <td>...</td>\n",
       "      <td>...</td>\n",
       "      <td>...</td>\n",
       "      <td>...</td>\n",
       "      <td>...</td>\n",
       "      <td>...</td>\n",
       "      <td>...</td>\n",
       "      <td>...</td>\n",
       "      <td>...</td>\n",
       "      <td>...</td>\n",
       "      <td>...</td>\n",
       "      <td>...</td>\n",
       "      <td>...</td>\n",
       "      <td>...</td>\n",
       "      <td>...</td>\n",
       "      <td>...</td>\n",
       "      <td>...</td>\n",
       "      <td>...</td>\n",
       "      <td>...</td>\n",
       "      <td>...</td>\n",
       "      <td>...</td>\n",
       "      <td>...</td>\n",
       "      <td>...</td>\n",
       "      <td>...</td>\n",
       "      <td>...</td>\n",
       "      <td>...</td>\n",
       "      <td>...</td>\n",
       "      <td>...</td>\n",
       "      <td>...</td>\n",
       "      <td>...</td>\n",
       "    </tr>\n",
       "    <tr>\n",
       "      <th>romantic_no</th>\n",
       "      <td>-0.164669</td>\n",
       "      <td>-0.039681</td>\n",
       "      <td>-0.015602</td>\n",
       "      <td>-0.021962</td>\n",
       "      <td>-0.053285</td>\n",
       "      <td>-0.093137</td>\n",
       "      <td>0.063816</td>\n",
       "      <td>0.011182</td>\n",
       "      <td>-0.007870</td>\n",
       "      <td>-0.015121</td>\n",
       "      <td>0.010141</td>\n",
       "      <td>-0.026342</td>\n",
       "      <td>-0.153384</td>\n",
       "      <td>0.037188</td>\n",
       "      <td>0.111774</td>\n",
       "      <td>0.129970</td>\n",
       "      <td>0.060700</td>\n",
       "      <td>-0.060700</td>\n",
       "      <td>-0.102023</td>\n",
       "      <td>0.102023</td>\n",
       "      <td>0.005257</td>\n",
       "      <td>-0.005257</td>\n",
       "      <td>0.034395</td>\n",
       "      <td>-0.034395</td>\n",
       "      <td>-0.040451</td>\n",
       "      <td>0.040451</td>\n",
       "      <td>-0.019326</td>\n",
       "      <td>-0.031343</td>\n",
       "      <td>-0.043476</td>\n",
       "      <td>0.041810</td>\n",
       "      <td>0.051288</td>\n",
       "      <td>-0.056706</td>\n",
       "      <td>0.000391</td>\n",
       "      <td>0.059505</td>\n",
       "      <td>-0.022762</td>\n",
       "      <td>-0.026933</td>\n",
       "      <td>0.049613</td>\n",
       "      <td>-0.030914</td>\n",
       "      <td>-0.074026</td>\n",
       "      <td>0.025374</td>\n",
       "      <td>0.039359</td>\n",
       "      <td>0.037525</td>\n",
       "      <td>-0.124045</td>\n",
       "      <td>-0.080716</td>\n",
       "      <td>0.080716</td>\n",
       "      <td>0.012440</td>\n",
       "      <td>-0.012440</td>\n",
       "      <td>0.005536</td>\n",
       "      <td>-0.005536</td>\n",
       "      <td>0.019651</td>\n",
       "      <td>-0.019651</td>\n",
       "      <td>0.027495</td>\n",
       "      <td>-0.027495</td>\n",
       "      <td>-0.105664</td>\n",
       "      <td>0.105664</td>\n",
       "      <td>0.087122</td>\n",
       "      <td>-0.087122</td>\n",
       "      <td>1.000000</td>\n",
       "      <td>-1.000000</td>\n",
       "    </tr>\n",
       "    <tr>\n",
       "      <th>romantic_yes</th>\n",
       "      <td>0.164669</td>\n",
       "      <td>0.039681</td>\n",
       "      <td>0.015602</td>\n",
       "      <td>0.021962</td>\n",
       "      <td>0.053285</td>\n",
       "      <td>0.093137</td>\n",
       "      <td>-0.063816</td>\n",
       "      <td>-0.011182</td>\n",
       "      <td>0.007870</td>\n",
       "      <td>0.015121</td>\n",
       "      <td>-0.010141</td>\n",
       "      <td>0.026342</td>\n",
       "      <td>0.153384</td>\n",
       "      <td>-0.037188</td>\n",
       "      <td>-0.111774</td>\n",
       "      <td>-0.129970</td>\n",
       "      <td>-0.060700</td>\n",
       "      <td>0.060700</td>\n",
       "      <td>0.102023</td>\n",
       "      <td>-0.102023</td>\n",
       "      <td>-0.005257</td>\n",
       "      <td>0.005257</td>\n",
       "      <td>-0.034395</td>\n",
       "      <td>0.034395</td>\n",
       "      <td>0.040451</td>\n",
       "      <td>-0.040451</td>\n",
       "      <td>0.019326</td>\n",
       "      <td>0.031343</td>\n",
       "      <td>0.043476</td>\n",
       "      <td>-0.041810</td>\n",
       "      <td>-0.051288</td>\n",
       "      <td>0.056706</td>\n",
       "      <td>-0.000391</td>\n",
       "      <td>-0.059505</td>\n",
       "      <td>0.022762</td>\n",
       "      <td>0.026933</td>\n",
       "      <td>-0.049613</td>\n",
       "      <td>0.030914</td>\n",
       "      <td>0.074026</td>\n",
       "      <td>-0.025374</td>\n",
       "      <td>-0.039359</td>\n",
       "      <td>-0.037525</td>\n",
       "      <td>0.124045</td>\n",
       "      <td>0.080716</td>\n",
       "      <td>-0.080716</td>\n",
       "      <td>-0.012440</td>\n",
       "      <td>0.012440</td>\n",
       "      <td>-0.005536</td>\n",
       "      <td>0.005536</td>\n",
       "      <td>-0.019651</td>\n",
       "      <td>0.019651</td>\n",
       "      <td>-0.027495</td>\n",
       "      <td>0.027495</td>\n",
       "      <td>0.105664</td>\n",
       "      <td>-0.105664</td>\n",
       "      <td>-0.087122</td>\n",
       "      <td>0.087122</td>\n",
       "      <td>-1.000000</td>\n",
       "      <td>1.000000</td>\n",
       "    </tr>\n",
       "  </tbody>\n",
       "</table>\n",
       "<p>59 rows × 59 columns</p>\n",
       "</div>"
      ],
      "text/plain": [
       "                   age      Medu      Fedu  traveltime  studytime  failures  \\\n",
       "age           1.000000 -0.163658 -0.163438    0.070641  -0.004140  0.243665   \n",
       "Medu         -0.163658  1.000000  0.623455   -0.171639   0.064944 -0.236680   \n",
       "...                ...       ...       ...         ...        ...       ...   \n",
       "romantic_no  -0.164669 -0.039681 -0.015602   -0.021962  -0.053285 -0.093137   \n",
       "romantic_yes  0.164669  0.039681  0.015602    0.021962   0.053285  0.093137   \n",
       "\n",
       "                famrel  freetime     goout      Dalc      Walc    health  \\\n",
       "age           0.053940  0.016434  0.126964  0.131125  0.117276 -0.062187   \n",
       "Medu         -0.003914  0.030891  0.064094  0.019834 -0.047123 -0.046878   \n",
       "...                ...       ...       ...       ...       ...       ...   \n",
       "romantic_no   0.063816  0.011182 -0.007870 -0.015121  0.010141 -0.026342   \n",
       "romantic_yes -0.063816 -0.011182  0.007870  0.015121 -0.010141  0.026342   \n",
       "\n",
       "              absences        G1        G2        G3  school_GP  school_MS  \\\n",
       "age           0.175230 -0.064081 -0.143474 -0.161579  -0.377610   0.377610   \n",
       "Medu          0.100285  0.205341  0.215527  0.217147   0.133333  -0.133333   \n",
       "...                ...       ...       ...       ...        ...        ...   \n",
       "romantic_no  -0.153384  0.037188  0.111774  0.129970   0.060700  -0.060700   \n",
       "romantic_yes  0.153384 -0.037188 -0.111774 -0.129970  -0.060700   0.060700   \n",
       "\n",
       "                 sex_F     sex_M  address_R  address_U  famsize_GT3  \\\n",
       "age           0.028606 -0.028606   0.146722  -0.146722    -0.037847   \n",
       "Medu         -0.078228  0.078228  -0.138804   0.138804     0.043068   \n",
       "...                ...       ...        ...        ...          ...   \n",
       "romantic_no  -0.102023  0.102023   0.005257  -0.005257     0.034395   \n",
       "romantic_yes  0.102023 -0.102023  -0.005257   0.005257    -0.034395   \n",
       "\n",
       "              famsize_LE3  Pstatus_A  Pstatus_T  Mjob_at_home  Mjob_health  \\\n",
       "age              0.037847  -0.029598   0.029598      0.088745    -0.082660   \n",
       "Medu            -0.043068   0.123565  -0.123565     -0.397637     0.251973   \n",
       "...                   ...        ...        ...           ...          ...   \n",
       "romantic_no     -0.034395  -0.040451   0.040451     -0.019326    -0.031343   \n",
       "romantic_yes     0.034395   0.040451  -0.040451      0.019326     0.031343   \n",
       "\n",
       "              Mjob_other  Mjob_services  Mjob_teacher  Fjob_at_home  \\\n",
       "age             0.032488      -0.007732     -0.058256      0.082233   \n",
       "Medu           -0.235176       0.051764      0.454911     -0.073794   \n",
       "...                  ...            ...           ...           ...   \n",
       "romantic_no    -0.043476       0.041810      0.051288     -0.056706   \n",
       "romantic_yes    0.043476      -0.041810     -0.051288      0.056706   \n",
       "\n",
       "              Fjob_health  Fjob_other  Fjob_services  Fjob_teacher  \\\n",
       "age             -0.109842    0.007682       0.042963     -0.069993   \n",
       "Medu             0.083398   -0.109887      -0.031834      0.259836   \n",
       "...                   ...         ...            ...           ...   \n",
       "romantic_no      0.000391    0.059505      -0.022762     -0.026933   \n",
       "romantic_yes    -0.000391   -0.059505       0.022762      0.026933   \n",
       "\n",
       "              reason_course  reason_home  reason_other  reason_reputation  \\\n",
       "age               -0.003913     0.018283      0.027172          -0.031932   \n",
       "Medu              -0.094435    -0.008708      0.008229           0.106487   \n",
       "...                     ...          ...           ...                ...   \n",
       "romantic_no        0.049613    -0.030914     -0.074026           0.025374   \n",
       "romantic_yes      -0.049613     0.030914      0.074026          -0.025374   \n",
       "\n",
       "              guardian_father  guardian_mother  guardian_other  schoolsup_no  \\\n",
       "age                 -0.112046        -0.133558        0.398396      0.251811   \n",
       "Medu                -0.046609         0.112375       -0.118635      0.036029   \n",
       "...                       ...              ...             ...           ...   \n",
       "romantic_no          0.039359         0.037525       -0.124045     -0.080716   \n",
       "romantic_yes        -0.039359        -0.037525        0.124045      0.080716   \n",
       "\n",
       "              schoolsup_yes  famsup_no  famsup_yes   paid_no  paid_yes  \\\n",
       "age               -0.251811   0.140609   -0.140609  0.035933 -0.035933   \n",
       "Medu              -0.036029  -0.183727    0.183727 -0.159700  0.159700   \n",
       "...                     ...        ...         ...       ...       ...   \n",
       "romantic_no        0.080716   0.012440   -0.012440  0.005536 -0.005536   \n",
       "romantic_yes      -0.080716  -0.012440    0.012440 -0.005536  0.005536   \n",
       "\n",
       "              activities_no  activities_yes  nursery_no  nursery_yes  \\\n",
       "age                0.103063       -0.103063    0.086632    -0.086632   \n",
       "Medu              -0.108277        0.108277   -0.193263     0.193263   \n",
       "...                     ...             ...         ...          ...   \n",
       "romantic_no        0.019651       -0.019651    0.027495    -0.027495   \n",
       "romantic_yes      -0.019651        0.019651   -0.027495     0.027495   \n",
       "\n",
       "              higher_no  higher_yes  internet_no  internet_yes  romantic_no  \\\n",
       "age            0.209081   -0.209081     0.112094     -0.112094    -0.164669   \n",
       "Medu          -0.168845    0.168845    -0.201463      0.201463    -0.039681   \n",
       "...                 ...         ...          ...           ...          ...   \n",
       "romantic_no   -0.105664    0.105664     0.087122     -0.087122     1.000000   \n",
       "romantic_yes   0.105664   -0.105664    -0.087122      0.087122    -1.000000   \n",
       "\n",
       "              romantic_yes  \n",
       "age               0.164669  \n",
       "Medu              0.039681  \n",
       "...                    ...  \n",
       "romantic_no      -1.000000  \n",
       "romantic_yes      1.000000  \n",
       "\n",
       "[59 rows x 59 columns]"
      ]
     },
     "execution_count": 45,
     "metadata": {},
     "output_type": "execute_result"
    }
   ],
   "source": [
    "dummy3.corr()"
   ]
  },
  {
   "cell_type": "code",
   "execution_count": 46,
   "metadata": {},
   "outputs": [],
   "source": [
    "X3 = dummy3[['age', 'famrel', 'freetime', 'goout', 'health', 'sex_F', 'sex_M', 'address_R',\n",
    "       'address_U', 'famsize_GT3', 'famsize_LE3', 'Pstatus_A', 'Pstatus_T',\n",
    "       'Mjob_at_home', 'Mjob_health', 'Mjob_other', 'Mjob_services',\n",
    "       'Mjob_teacher', 'Fjob_at_home', 'Fjob_health', 'Fjob_other',\n",
    "       'Fjob_services', 'guardian_father','guardian_mother', 'guardian_other','internet_no', 'internet_yes', 'romantic_no',\n",
    "       'romantic_yes', 'Dalc', 'Walc']]\n",
    "\n",
    "y3 = dummy3[['absences']]\n",
    "\n",
    "X_train3, X_test3, y_train3, y_test3 = train_test_split(X3, y3, test_size=0.20, random_state=1)"
   ]
  },
  {
   "cell_type": "code",
   "execution_count": 47,
   "metadata": {},
   "outputs": [
    {
     "data": {
      "text/plain": [
       "LinearRegression(copy_X=True, fit_intercept=True, n_jobs=1, normalize=False)"
      ]
     },
     "execution_count": 47,
     "metadata": {},
     "output_type": "execute_result"
    }
   ],
   "source": [
    "regression_model3 = LinearRegression()\n",
    "regression_model3.fit(X_train3, y_train3)"
   ]
  },
  {
   "cell_type": "code",
   "execution_count": 48,
   "metadata": {},
   "outputs": [
    {
     "data": {
      "text/plain": [
       "-0.0541887906720524"
      ]
     },
     "execution_count": 48,
     "metadata": {},
     "output_type": "execute_result"
    }
   ],
   "source": [
    "regression_model3.score(X_test3, y_test3)"
   ]
  },
  {
   "cell_type": "code",
   "execution_count": 49,
   "metadata": {},
   "outputs": [
    {
     "data": {
      "text/plain": [
       "<matplotlib.collections.PathCollection at 0x252d1943f60>"
      ]
     },
     "execution_count": 49,
     "metadata": {},
     "output_type": "execute_result"
    },
    {
     "data": {
      "image/png": "[encoded data removed]",
      "text/plain": [
       "<Figure size 432x288 with 1 Axes>"
      ]
     },
     "metadata": {
      "needs_background": "light"
     },
     "output_type": "display_data"
    }
   ],
   "source": [
    "predictions3 = regression_model3.predict(X_test3)\n",
    "plt.scatter(y_test3,predictions3)"
   ]
  },
  {
   "cell_type": "code",
   "execution_count": 50,
   "metadata": {},
   "outputs": [
    {
     "data": {
      "text/plain": [
       "50.486876465558574"
      ]
     },
     "execution_count": 50,
     "metadata": {},
     "output_type": "execute_result"
    }
   ],
   "source": [
    "y_predict3 = regression_model3.predict(X_test3)\n",
    "\n",
    "regression_model_mse3 = mean_squared_error(y_predict3, y_test3)\n",
    "\n",
    "regression_model_mse3"
   ]
  },
  {
   "cell_type": "code",
   "execution_count": 51,
   "metadata": {},
   "outputs": [
    {
     "name": "stdout",
     "output_type": "stream",
     "text": [
      "RSME3:\n"
     ]
    },
    {
     "data": {
      "text/plain": [
       "7.105411773117627"
      ]
     },
     "execution_count": 51,
     "metadata": {},
     "output_type": "execute_result"
    }
   ],
   "source": [
    "print(\"RSME3:\")\n",
    "math.sqrt(regression_model_mse3)"
   ]
  },
  {
   "cell_type": "markdown",
   "metadata": {},
   "source": [
    "# BEST Model is “Good” or Not "
   ]
  },
  {
   "cell_type": "markdown",
   "metadata": {},
   "source": [
    "Write a paragraph (either as comments or as markdown) explaining whether or not your BEST model is “good” and why\n",
    "\n"
   ]
  },
  {
   "cell_type": "markdown",
   "metadata": {},
   "source": [
    "The BEST model is not good because the RSME is 6.666388557036358 and the accuracy score is 0.07205734569303412 or ~7% accuracy rate. So, model's ability to predict data values against observed values is not accurate nor precise. This is demonstrated by \"print(predictions[0:5])\" as predicted values wildly varied. Therefore, one can conclude that the data collected is bad or that adjustments need to be made to the datasets to normalize them (i.e. remove outliers)."
   ]
  },
  {
   "cell_type": "code",
   "execution_count": null,
   "metadata": {},
   "outputs": [],
   "source": []
  }
 ],
 "metadata": {
  "kernelspec": {
   "display_name": "Python 3",
   "language": "python",
   "name": "python3"
  },
  "language_info": {
   "codemirror_mode": {
    "name": "ipython",
    "version": 3
   },
   "file_extension": ".py",
   "mimetype": "text/x-python",
   "name": "python",
   "nbconvert_exporter": "python",
   "pygments_lexer": "ipython3",
   "version": "3.7.0"
  }
 },
 "nbformat": 4,
 "nbformat_minor": 2
}
